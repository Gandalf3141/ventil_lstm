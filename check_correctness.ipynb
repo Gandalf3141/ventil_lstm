{
 "cells": [
  {
   "cell_type": "code",
   "execution_count": null,
   "metadata": {},
   "outputs": [],
   "source": [
    "# Importing necessary libraries\n",
    "from matplotlib import legend\n",
    "import pandas as pd\n",
    "import matplotlib.pyplot as plt\n",
    "import torch\n",
    "from torch import nn\n",
    "import os\n",
    "import numpy as np\n",
    "from icecream import ic\n",
    "from tqdm import tqdm\n",
    "from itertools import chain\n",
    "import logging\n",
    "import os\n",
    "import cProfile\n",
    "import pstats\n",
    "#from dataloader import *\n",
    "from get_data import *\n",
    "from torch.utils.data import Dataset, DataLoader\n",
    "from dataloader import *"
   ]
  },
  {
   "cell_type": "code",
   "execution_count": null,
   "metadata": {},
   "outputs": [],
   "source": [
    "visualise(get_data(path = \"save_data_test4.csv\", timesteps_from_data=0, skip_steps_start = 0, skip_steps_end = 0, \n",
    "                   drop_half_timesteps = False, normalise_s_w=False, rescale_p=False, num_inits=100), num_inits=100, set_ylim=True)"
   ]
  },
  {
   "cell_type": "code",
   "execution_count": null,
   "metadata": {},
   "outputs": [],
   "source": []
  },
  {
   "cell_type": "code",
   "execution_count": 180,
   "metadata": {},
   "outputs": [],
   "source": [
    "input_data = get_data(path = \"save_data_test4.csv\", \n",
    "                        timesteps_from_data=0, \n",
    "                        skip_steps_start = 0,\n",
    "                        skip_steps_end = 0, \n",
    "                        drop_half_timesteps = False,\n",
    "                        normalise_s_w=True,\n",
    "                        rescale_p=False,\n",
    "                        num_inits=4)\n",
    "\n",
    "cut_off_timesteps = 800\n",
    "\n",
    "#Split data into train and test sets\n",
    "percentage_of_data = 0.8\n",
    "window_size = 15\n",
    "batch_size = 2\n",
    "future=6\n",
    "\n",
    "num_of_inits_train = int(len(input_data)*percentage_of_data)\n",
    "train_inits = np.random.randint(0,len(input_data), num_of_inits_train)\n",
    "train_inits = np.unique(train_inits)\n",
    "test_inits = np.array([x for x in range(len(input_data)) if x not in train_inits])\n",
    "\n",
    "# make sure we really get the specified percentage of training data..\n",
    "if percentage_of_data < 0.99: \n",
    "        while len(train_inits) < num_of_inits_train:\n",
    "            i = np.random.randint(0,len(test_inits),1)[0]\n",
    "            train_inits = np.append(train_inits,test_inits[i])\n",
    "            test_inits = np.delete(test_inits, i)\n",
    "\n",
    "train_data = input_data[train_inits,:input_data.size(dim=1)-cut_off_timesteps,:]\n",
    "test_data = input_data[test_inits,:,:]\n",
    "\n",
    "data_set  = CustomDataset(train_data, window_size=window_size, future=future)\n",
    "train_dataloader = DataLoader(data_set, batch_size=batch_size)#, drop_last=True)"
   ]
  },
  {
   "cell_type": "code",
   "execution_count": 181,
   "metadata": {},
   "outputs": [
    {
     "name": "stdout",
     "output_type": "stream",
     "text": [
      "torch.Size([3, 300, 3])\n",
      "450.0\n",
      "301 skip\n",
      "303 skip\n",
      "305 skip\n",
      "307 skip\n",
      "309 skip\n",
      "311 skip\n",
      "313 skip\n",
      "601 skip\n",
      "603 skip\n",
      "605 skip\n",
      "607 skip\n",
      "609 skip\n",
      "611 skip\n",
      "613 skip\n"
     ]
    }
   ],
   "source": [
    "print(train_data.size())\n",
    "print((train_data.size(dim=0)*train_data.size(dim=1))/(batch_size))\n",
    "for k, (x,y) in enumerate(train_dataloader):\n",
    "    #print(y, y.size())\n",
    "   # print(x[0,-1,0] , y[0,0,0])\n",
    "    if x[-1,-1,0]  == x[-1,-2,0]:\n",
    "        print(2*k+window_size,\"skip\")\n",
    "    #print(\"label:\",y)\n",
    "    #print(\"timestep mit label simma bei t = \", k, \":\", k+(window_size+2))\n",
    "    #print(\"-----------------------------\")\n",
    "    #print(k)\n"
   ]
  },
  {
   "cell_type": "code",
   "execution_count": 149,
   "metadata": {},
   "outputs": [
    {
     "ename": "IndexError",
     "evalue": "index 20 is out of bounds for dimension 0 with size 20",
     "output_type": "error",
     "traceback": [
      "\u001b[1;31m---------------------------------------------------------------------------\u001b[0m",
      "\u001b[1;31mIndexError\u001b[0m                                Traceback (most recent call last)",
      "Cell \u001b[1;32mIn[149], line 24\u001b[0m\n\u001b[0;32m     21\u001b[0m     plt\u001b[38;5;241m.\u001b[39mshow()\n\u001b[0;32m     23\u001b[0m get_ipython()\u001b[38;5;241m.\u001b[39mrun_line_magic(\u001b[38;5;124m'\u001b[39m\u001b[38;5;124mmatplotlib\u001b[39m\u001b[38;5;124m'\u001b[39m, \u001b[38;5;124m'\u001b[39m\u001b[38;5;124mqt\u001b[39m\u001b[38;5;124m'\u001b[39m)\n\u001b[1;32m---> 24\u001b[0m \u001b[43mvisualise_batching\u001b[49m\u001b[43m(\u001b[49m\u001b[43mtrain_dataloader\u001b[49m\u001b[43m,\u001b[49m\u001b[43m \u001b[49m\u001b[43mtrain_data\u001b[49m\u001b[43m)\u001b[49m\n",
      "Cell \u001b[1;32mIn[149], line 12\u001b[0m, in \u001b[0;36mvisualise_batching\u001b[1;34m(train_dataloader, train_data)\u001b[0m\n\u001b[0;32m     10\u001b[0m \u001b[38;5;28;01mfor\u001b[39;00m b \u001b[38;5;129;01min\u001b[39;00m \u001b[38;5;28mrange\u001b[39m(batch_size):\n\u001b[0;32m     11\u001b[0m  \u001b[38;5;28;01mif\u001b[39;00m b\u001b[38;5;241m%\u001b[39m\u001b[38;5;241m10\u001b[39m\u001b[38;5;241m==\u001b[39m\u001b[38;5;241m0\u001b[39m:\n\u001b[1;32m---> 12\u001b[0m     plt\u001b[38;5;241m.\u001b[39mplot(timesteps[k\u001b[38;5;241m*\u001b[39mbatch_size\u001b[38;5;241m+\u001b[39mb: k\u001b[38;5;241m*\u001b[39mbatch_size\u001b[38;5;241m+\u001b[39mb\u001b[38;5;241m+\u001b[39mwindow_size], \u001b[43mx\u001b[49m\u001b[43m[\u001b[49m\u001b[43mb\u001b[49m\u001b[43m,\u001b[49m\u001b[43m:\u001b[49m\u001b[43m,\u001b[49m\u001b[38;5;241;43m1\u001b[39;49m\u001b[43m]\u001b[49m\u001b[38;5;241m.\u001b[39mview(window_size)\u001b[38;5;241m.\u001b[39mnumpy(), alpha\u001b[38;5;241m=\u001b[39m\u001b[38;5;241m0.2\u001b[39m, linewidth\u001b[38;5;241m=\u001b[39m\u001b[38;5;241m5\u001b[39m, color\u001b[38;5;241m=\u001b[39m\u001b[38;5;124m\"\u001b[39m\u001b[38;5;124mred\u001b[39m\u001b[38;5;124m\"\u001b[39m)\n\u001b[0;32m     13\u001b[0m     plt\u001b[38;5;241m.\u001b[39mplot(timesteps[k\u001b[38;5;241m*\u001b[39mbatch_size\u001b[38;5;241m+\u001b[39mb\u001b[38;5;241m+\u001b[39mwindow_size:k\u001b[38;5;241m*\u001b[39mbatch_size\u001b[38;5;241m+\u001b[39mb\u001b[38;5;241m+\u001b[39mwindow_size\u001b[38;5;241m+\u001b[39mfuture], y[b,:,\u001b[38;5;241m1\u001b[39m]\u001b[38;5;241m.\u001b[39mview(future)\u001b[38;5;241m.\u001b[39mnumpy(), alpha\u001b[38;5;241m=\u001b[39m\u001b[38;5;241m0.5\u001b[39m, linewidth\u001b[38;5;241m=\u001b[39m\u001b[38;5;241m5\u001b[39m, color\u001b[38;5;241m=\u001b[39m\u001b[38;5;124m\"\u001b[39m\u001b[38;5;124mgreen\u001b[39m\u001b[38;5;124m\"\u001b[39m, linestyle\u001b[38;5;241m=\u001b[39m\u001b[38;5;124m\"\u001b[39m\u001b[38;5;124mdotted\u001b[39m\u001b[38;5;124m\"\u001b[39m)\n\u001b[0;32m     14\u001b[0m     plt\u001b[38;5;241m.\u001b[39mplot(timesteps[k\u001b[38;5;241m*\u001b[39mbatch_size\u001b[38;5;241m+\u001b[39mb: k\u001b[38;5;241m*\u001b[39mbatch_size\u001b[38;5;241m+\u001b[39mb\u001b[38;5;241m+\u001b[39mwindow_size], x[b,:,\u001b[38;5;241m1\u001b[39m]\u001b[38;5;241m.\u001b[39mview(window_size)\u001b[38;5;241m.\u001b[39mnumpy() \u001b[38;5;241m-\u001b[39m b, alpha\u001b[38;5;241m=\u001b[39m\u001b[38;5;241m0.2\u001b[39m, linewidth\u001b[38;5;241m=\u001b[39m\u001b[38;5;241m5\u001b[39m, color\u001b[38;5;241m=\u001b[39m\u001b[38;5;124m\"\u001b[39m\u001b[38;5;124mred\u001b[39m\u001b[38;5;124m\"\u001b[39m)\n",
      "\u001b[1;31mIndexError\u001b[0m: index 20 is out of bounds for dimension 0 with size 20"
     ]
    }
   ],
   "source": [
    "def visualise_batching(train_dataloader, train_data):\n",
    "\n",
    "    n  = 10*train_data.size(dim=1)\n",
    "\n",
    "    timesteps = np.linspace(0,n,n)\n",
    "\n",
    "    for k, (x, y) in enumerate(train_dataloader):\n",
    "        # print(x,x.size(), timesteps[k*window_size:(k+1)*window_size])\n",
    "        #if (k+1)*window_size < 10*train_data.size(dim=1):\n",
    "        for b in range(batch_size):\n",
    "         if b%10==0:\n",
    "            plt.plot(timesteps[k*batch_size+b: k*batch_size+b+window_size], x[b,:,1].view(window_size).numpy(), alpha=0.2, linewidth=5, color=\"red\")\n",
    "            plt.plot(timesteps[k*batch_size+b+window_size:k*batch_size+b+window_size+future], y[b,:,1].view(future).numpy(), alpha=0.5, linewidth=5, color=\"green\", linestyle=\"dotted\")\n",
    "            plt.plot(timesteps[k*batch_size+b: k*batch_size+b+window_size], x[b,:,1].view(window_size).numpy() - b, alpha=0.2, linewidth=5, color=\"red\")\n",
    "            plt.plot(timesteps[k*batch_size+b+window_size:k*batch_size+b+window_size+future], y[b,:,1].view(future).numpy() - b, alpha=0.5, linewidth=5, color=\"green\", linestyle=\"dotted\")\n",
    "         #else:\n",
    "            #plt.plot(timesteps[k*batch_size+b: k*batch_size+b+window_size], x[b,:,1].view(window_size).numpy(), alpha=0.2, linewidth=5, color=\"blue\")\n",
    "            #plt.plot(timesteps[k*batch_size+b+window_size:k*batch_size+b+window_size+future], y[b,:,1].view(future).numpy(), alpha=0.5, linewidth=5)\n",
    "\n",
    "    plt.grid(True)\n",
    "    plt.show()\n",
    "    \n",
    "%matplotlib qt \n",
    "visualise_batching(train_dataloader, train_data)"
   ]
  },
  {
   "cell_type": "code",
   "execution_count": null,
   "metadata": {},
   "outputs": [],
   "source": []
  },
  {
   "cell_type": "code",
   "execution_count": null,
   "metadata": {},
   "outputs": [],
   "source": []
  },
  {
   "cell_type": "code",
   "execution_count": null,
   "metadata": {},
   "outputs": [],
   "source": []
  },
  {
   "cell_type": "code",
   "execution_count": null,
   "metadata": {},
   "outputs": [],
   "source": []
  },
  {
   "cell_type": "code",
   "execution_count": null,
   "metadata": {},
   "outputs": [],
   "source": []
  },
  {
   "cell_type": "code",
   "execution_count": null,
   "metadata": {},
   "outputs": [],
   "source": []
  },
  {
   "cell_type": "code",
   "execution_count": null,
   "metadata": {},
   "outputs": [],
   "source": []
  }
 ],
 "metadata": {
  "kernelspec": {
   "display_name": "Python 3",
   "language": "python",
   "name": "python3"
  },
  "language_info": {
   "codemirror_mode": {
    "name": "ipython",
    "version": 3
   },
   "file_extension": ".py",
   "mimetype": "text/x-python",
   "name": "python",
   "nbconvert_exporter": "python",
   "pygments_lexer": "ipython3",
   "version": "3.11.9"
  }
 },
 "nbformat": 4,
 "nbformat_minor": 2
}
