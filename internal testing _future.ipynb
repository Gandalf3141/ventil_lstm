{
 "cells": [
  {
   "cell_type": "code",
   "execution_count": 3,
   "metadata": {},
   "outputs": [],
   "source": [
    "# Importing necessary libraries\n",
    "import matplotlib.pyplot as plt\n",
    "import torch\n",
    "from torch import nn\n",
    "import numpy as np\n",
    "from icecream import ic\n",
    "from tqdm import tqdm\n",
    "from get_data import *\n",
    "from dataloader import *"
   ]
  },
  {
   "cell_type": "code",
   "execution_count": 4,
   "metadata": {},
   "outputs": [
    {
     "name": "stdout",
     "output_type": "stream",
     "text": [
      "cpu\n"
     ]
    }
   ],
   "source": [
    " #Define the LSTM model class\n",
    "\n",
    "# Use the GPU if available\n",
    "torch.set_default_dtype(torch.float64)\n",
    "device = \"cuda:0\" if torch.cuda.is_available() else \"cpu\"\n",
    "#device=\"cpu\"\n",
    "print(device)\n",
    "\n",
    "class LSTMmodel(nn.Module):\n",
    "\n",
    "    def __init__(self, input_size, hidden_size, out_size, layers, future=1):\n",
    "\n",
    "        super().__init__()\n",
    "\n",
    "        self.hidden_size = hidden_size\n",
    "        self.input_size = input_size\n",
    "        self.future = future\n",
    "        # Define LSTM layer\n",
    "        self.lstm = nn.LSTM(input_size, hidden_size, num_layers=layers, batch_first=True)\n",
    "\n",
    "        # Define linear layer\n",
    "        self.linear = nn.Linear(hidden_size, out_size)\n",
    "\n",
    "    def forward(self, seq):\n",
    "    \n",
    "        lstm_out, hidden = self.lstm(seq)\n",
    "        #lstm_out = self.act(lstm_out)\n",
    "        pred = self.linear(lstm_out)\n",
    "        \n",
    "        if self.future==1:\n",
    "            return pred, hidden\n",
    "        \n",
    "        out = []\n",
    "        if self.future > 1:\n",
    "            for t in range(self.future):\n",
    "                \n",
    "                seq = torch.cat((seq[:,1:,:], pred[:,-1:,:]), dim=1)\n",
    "                #seq = pred[:,-1:,:]\n",
    "                \n",
    "                #lstm_out, hidden = self.lstm(seq, hidden)\n",
    "                lstm_out, hidden = self.lstm(seq)\n",
    "                \n",
    "                pred = self.linear(lstm_out)\n",
    "                out.append(pred) \n",
    "                \n",
    "        return out, hidden          \n",
    "\n",
    "\n",
    "\n",
    "\n",
    "\n"
   ]
  },
  {
   "cell_type": "code",
   "execution_count": 5,
   "metadata": {},
   "outputs": [],
   "source": [
    "def test(test_data, model, steps=600, ws=10, plot_opt=False, n = 5, rand=True):\n",
    "\n",
    "    #test_data = test_dataloader.get_all_data() \n",
    "    model.eval()\n",
    "    loss_fn = nn.MSELoss()\n",
    "    test_loss = 0\n",
    "    test_loss_deriv = 0\n",
    "    total_loss = 0\n",
    "    \n",
    "    if rand:\n",
    "     np.random.seed(123)\n",
    " \n",
    "    ids = np.random.choice(test_data.size(dim=0), min([n, test_data.size(dim=0)]), replace=False)\n",
    "    ids = np.unique(ids)\n",
    "\n",
    "\n",
    "    for i, x in enumerate(test_data):\n",
    "        x=x.to(device)\n",
    "        if i not in ids:\n",
    "            continue\n",
    "\n",
    "        with torch.inference_mode():\n",
    "\n",
    "            pred = torch.zeros((steps, 3), device=device)\n",
    "            pred_next_step = torch.zeros((steps, 3), device=device)\n",
    "\n",
    "            if ws > 1:\n",
    "                pred[0:ws, :] = x[0:ws, :]\n",
    "                pred[:, 0] = x[:, 0]\n",
    "                pred_next_step[0:ws, :] = x[0:ws, :]\n",
    "                pred_next_step[:, 0] = x[:, 0]\n",
    "            else:\n",
    "                pred[0, :] = x[0, :]\n",
    "                pred[:, 0] = x[:, 0]\n",
    "                pred_next_step[0, :] = x[0, :]\n",
    "                pred_next_step[:, 0] = x[:, 0]\n",
    "\n",
    "            for i in range(len(x) - ws):\n",
    "\n",
    "                out, _ = model(pred[i:i+ws, :])\n",
    "                pred[i+ws, :] = pred[i+ws-1, :] + out[-1, :]\n",
    "                pred_next_step[i+ws, :] = x[i+ws-1, :] + out[-1, :]\n",
    "            \n",
    "            test_loss += loss_fn(pred[:, 1], x[:, 1]).detach().cpu().numpy()\n",
    "            test_loss_deriv += loss_fn(pred[:, 2], x[:, 2]).detach().cpu().numpy()\n",
    "\n",
    "            total_loss += loss_fn(pred[:, 1:], x[:, 1:]).detach().cpu().numpy()\n",
    "\n",
    "            if plot_opt:\n",
    "                figure , axs = plt.subplots(1,3,figsize=(16,9))\n",
    "            \n",
    "                axs[0].plot(pred.detach().cpu().numpy()[:, 1], color=\"red\", label=\"pred\")\n",
    "                axs[0].plot(pred_next_step.detach().cpu().numpy()[:, 1], color=\"green\", label=\"next step from data\")\n",
    "                axs[0].plot(x.detach().cpu().numpy()[:, 1], color=\"blue\", label=\"true\", linestyle=\"dashed\")\n",
    "                axs[0].set_title(\"position\")\n",
    "                axs[0].grid()\n",
    "                axs[0].legend()\n",
    "\n",
    "                axs[1].plot(pred.detach().cpu().numpy()[:, 2], color=\"red\", label=\"pred\")\n",
    "                axs[1].plot(pred_next_step.detach().cpu().numpy()[:, 2], color=\"green\", label=\"next step from data\")\n",
    "                axs[1].plot(x.detach().cpu().numpy()[:, 2], color=\"blue\", label=\"true\", linestyle=\"dashed\")\n",
    "                axs[1].set_title(\"speed\")\n",
    "                axs[1].grid()\n",
    "                axs[1].legend()\n",
    "\n",
    "                axs[2].plot(x.detach().cpu().numpy()[:,0], label=\"pressure\")\n",
    "                axs[2].set_title(\"pressure\")\n",
    "                axs[2].grid()\n",
    "                axs[2].legend()\n",
    "\n",
    "                plt.grid(True)\n",
    "                plt.legend()\n",
    "                plt.show()\n",
    "            \n",
    "    return np.mean(test_loss), np.mean(test_loss_deriv), np.mean(total_loss)\n"
   ]
  },
  {
   "cell_type": "code",
   "execution_count": 6,
   "metadata": {},
   "outputs": [],
   "source": [
    "#with future:\n",
    "\n",
    "def train(input_data, model, weight_decay, future_decay, learning_rate=0.001, ws=0, future=1):\n",
    "\n",
    "    loss_fn = nn.MSELoss()\n",
    "    optimizer = torch.optim.Adam(model.parameters(), lr = learning_rate, weight_decay=weight_decay)\n",
    "\n",
    "    model.train()\n",
    "    total_loss = []\n",
    "\n",
    "    for k, (inp, label) in enumerate(input_data):  # inp = (u, x) label = x\n",
    "\n",
    "        inp=inp.to(device)\n",
    "        label=label.to(device)\n",
    "\n",
    "        # Predict one timestep :\n",
    "        output, _ = model(inp)\n",
    "\n",
    "        out = []\n",
    "        for i in range(future):\n",
    "            out.append(inp[:, :, :] + output[i])\n",
    "\n",
    "        # reset the gradient\n",
    "        \n",
    "        optimizer.zero_grad(set_to_none=True)\n",
    "        # calculate the error\n",
    "\n",
    "        loss = loss_fn(out[0][:,-1,:], label[:, 0, :])\n",
    "\n",
    "        for t in range(1, future):\n",
    "            loss += loss_fn(out[t][:,-1,:], label[:, t, :])\n",
    "\n",
    "        loss.backward(retain_graph=True)\n",
    "        optimizer.step()\n",
    "\n",
    "        total_loss.append(loss.detach().cpu().numpy())\n",
    "\n",
    "   # return the average error of the next step prediction\n",
    "    return np.mean(total_loss)\n"
   ]
  },
  {
   "cell_type": "code",
   "execution_count": 15,
   "metadata": {},
   "outputs": [
    {
     "name": "stdout",
     "output_type": "stream",
     "text": [
      "torch.Size([500, 550, 3])\n",
      "torch.Size([50, 300, 3])\n"
     ]
    },
    {
     "name": "stderr",
     "output_type": "stream",
     "text": [
      " 10%|█         | 10/100 [00:14<02:53,  1.93s/it]"
     ]
    },
    {
     "name": "stdout",
     "output_type": "stream",
     "text": [
      "Epoch: 9, the average next step error was : loss_epoch\n",
      "Average error over full trajectories: training data : 9544.69974688472\n"
     ]
    },
    {
     "name": "stderr",
     "output_type": "stream",
     "text": [
      " 20%|██        | 20/100 [00:30<03:04,  2.31s/it]"
     ]
    },
    {
     "name": "stdout",
     "output_type": "stream",
     "text": [
      "Epoch: 19, the average next step error was : loss_epoch\n",
      "Average error over full trajectories: training data : 15832.609713694692\n"
     ]
    },
    {
     "name": "stderr",
     "output_type": "stream",
     "text": [
      " 30%|███       | 30/100 [00:46<02:27,  2.10s/it]"
     ]
    },
    {
     "name": "stdout",
     "output_type": "stream",
     "text": [
      "Epoch: 29, the average next step error was : loss_epoch\n",
      "Average error over full trajectories: training data : 30087.7331811518\n"
     ]
    },
    {
     "name": "stderr",
     "output_type": "stream",
     "text": [
      " 40%|████      | 40/100 [01:02<02:20,  2.34s/it]"
     ]
    },
    {
     "name": "stdout",
     "output_type": "stream",
     "text": [
      "Epoch: 39, the average next step error was : loss_epoch\n",
      "Average error over full trajectories: training data : 30549.586985085323\n"
     ]
    },
    {
     "name": "stderr",
     "output_type": "stream",
     "text": [
      " 50%|█████     | 50/100 [01:19<01:54,  2.29s/it]"
     ]
    },
    {
     "name": "stdout",
     "output_type": "stream",
     "text": [
      "Epoch: 49, the average next step error was : loss_epoch\n",
      "Average error over full trajectories: training data : 11343.187290185257\n"
     ]
    },
    {
     "name": "stderr",
     "output_type": "stream",
     "text": [
      " 60%|██████    | 60/100 [01:34<01:24,  2.12s/it]"
     ]
    },
    {
     "name": "stdout",
     "output_type": "stream",
     "text": [
      "Epoch: 59, the average next step error was : loss_epoch\n",
      "Average error over full trajectories: training data : 1043.4443404588756\n"
     ]
    },
    {
     "name": "stderr",
     "output_type": "stream",
     "text": [
      " 70%|███████   | 70/100 [01:51<01:11,  2.38s/it]"
     ]
    },
    {
     "name": "stdout",
     "output_type": "stream",
     "text": [
      "Epoch: 69, the average next step error was : loss_epoch\n",
      "Average error over full trajectories: training data : 873.2963882385181\n"
     ]
    },
    {
     "name": "stderr",
     "output_type": "stream",
     "text": [
      " 80%|████████  | 80/100 [02:06<00:38,  1.94s/it]"
     ]
    },
    {
     "name": "stdout",
     "output_type": "stream",
     "text": [
      "Epoch: 79, the average next step error was : loss_epoch\n",
      "Average error over full trajectories: training data : 1077.869497650577\n"
     ]
    },
    {
     "name": "stderr",
     "output_type": "stream",
     "text": [
      " 90%|█████████ | 90/100 [02:23<00:24,  2.44s/it]"
     ]
    },
    {
     "name": "stdout",
     "output_type": "stream",
     "text": [
      "Epoch: 89, the average next step error was : loss_epoch\n",
      "Average error over full trajectories: training data : 1057.1844908948485\n"
     ]
    },
    {
     "name": "stderr",
     "output_type": "stream",
     "text": [
      "100%|██████████| 100/100 [02:41<00:00,  1.61s/it]"
     ]
    },
    {
     "name": "stdout",
     "output_type": "stream",
     "text": [
      "Epoch: 99, the average next step error was : loss_epoch\n",
      "Average error over full trajectories: training data : 843.8771256572977\n"
     ]
    },
    {
     "name": "stderr",
     "output_type": "stream",
     "text": [
      "\n"
     ]
    },
    {
     "name": "stdout",
     "output_type": "stream",
     "text": [
      "TRAINING FINISHED: Average error over full trajectories: training data : 2241.2416653607843\n"
     ]
    }
   ],
   "source": [
    "\n",
    "# set some parameters for learning \n",
    "                    #window_size, h_size,  l_num,  epochs, learning_rate,  part_of_data,   weight_decay,   percentage_of_data    future_decay      batch_size\n",
    "parameter_sets  =    [4,             6 ,      1,       100,       0.0005,          0,           1e-5,               0.1,               0.5 ,           2000]\n",
    "           # {'lr': 0.0006226762071294569, 'ws': 9, 'bs': 51, 'hs': 13, 'ls': 2}         \n",
    "window_size, h_size, l_num, epochs, learning_rate, part_of_data, weight_decay,  percentage_of_data, future_decay, batch_size = parameter_sets\n",
    "\n",
    "future = 3\n",
    "\n",
    "# Initialize the LSTM model\n",
    "model = LSTMmodel(input_size=3, hidden_size=h_size, out_size=3, layers=l_num, future=future).to(device)\n",
    "#model = RNNmodel(input_size=3, hidden_size=h_size, out_size=2, layers=l_num).to(device)\n",
    "\n",
    "# Generate input data (the data is normalized and some timesteps are cut off)\n",
    "input_data = get_data(path = \"save_data_test4.csv\", \n",
    "                        timesteps_from_data=0, \n",
    "                        skip_steps_start = 0,\n",
    "                        skip_steps_end = 0, \n",
    "                        drop_half_timesteps = True,\n",
    "                        normalise_s_w=True,\n",
    "                        rescale_p=False,\n",
    "                        num_inits=part_of_data)\n",
    "\n",
    "cut_off_timesteps = 800\n",
    "print(input_data.size())\n",
    "#Split data into train and test sets\n",
    "np.random.seed(2312)\n",
    "num_of_inits_train = int(len(input_data)*percentage_of_data)\n",
    "train_inits = np.random.choice(np.arange(len(input_data)),num_of_inits_train,replace=False)\n",
    "test_inits = np.array([x for x in range(len(input_data)) if x not in train_inits])\n",
    "\n",
    "train_data = input_data[train_inits,:input_data.size(dim=1)-cut_off_timesteps,:]\n",
    "test_data = input_data[test_inits,:,:]\n",
    "print(train_data.size())\n",
    "\n",
    "data_set  = CustomDataset(train_data, window_size=window_size, future=future)\n",
    "train_dataloader = DataLoader(data_set, batch_size=batch_size, pin_memory=True, drop_last=True)\n",
    "\n",
    "losses = []\n",
    "average_traj_err_train = []\n",
    "average_traj_err_test = []\n",
    "\n",
    "for e in tqdm(range(epochs)):\n",
    "    \n",
    "    loss_epoch = train(train_dataloader, model, weight_decay, future_decay, learning_rate=learning_rate, ws=window_size, future=future)\n",
    "    losses.append(loss_epoch)\n",
    "\n",
    "    # Every few epochs get the error MSE of the true data\n",
    "    # compared to the network prediction starting from some initial conditions\n",
    "    if (e+1)%10 == 0:\n",
    "        model.future = 1\n",
    "        _,_, err_train = test(train_data, model, steps=train_data.size(dim=1), ws=window_size, plot_opt=False, n = 20)\n",
    "        model.future = future\n",
    "        if err_train < 1:\n",
    "            print(\"stopped early\")\n",
    "            break\n",
    "        #_,_, err_test = test(test_data, model, steps=test_data.size(dim=1), ws=window_size, plot_opt=False, n = 20)\n",
    "        average_traj_err_train.append(err_train)\n",
    "        #average_traj_err_test.append(err_test)\n",
    "        print(f\"Epoch: {e}, the average next step error was : loss_epoch\")\n",
    "        print(f\"Average error over full trajectories: training data : {err_train}\")\n",
    "        #print(f\"Average error over full trajectories: testing data : {err_test}\")\n",
    "\n",
    "model.future=1\n",
    "_,_, err_train = test(train_data, model, steps=train_data.size(dim=1), ws=window_size, plot_opt=False, n = 100)\n",
    "#_,_, err_test = test(test_data, model, steps=test_data.size(dim=1), ws=window_size, plot_opt=False, n = 100)\n",
    "print(f\"TRAINING FINISHED: Average error over full trajectories: training data : {err_train}\")\n",
    "#print(f\"TRAINING FINISHED: Average error over full trajectories: testing data : {err_test}\")\n",
    "        "
   ]
  },
  {
   "cell_type": "code",
   "execution_count": 7,
   "metadata": {},
   "outputs": [
    {
     "ename": "NameError",
     "evalue": "name 'model' is not defined",
     "output_type": "error",
     "traceback": [
      "\u001b[1;31m---------------------------------------------------------------------------\u001b[0m",
      "\u001b[1;31mNameError\u001b[0m                                 Traceback (most recent call last)",
      "Cell \u001b[1;32mIn[7], line 3\u001b[0m\n\u001b[0;32m      1\u001b[0m \u001b[38;5;66;03m# Save the model\u001b[39;00m\n\u001b[0;32m      2\u001b[0m path \u001b[38;5;241m=\u001b[39m \u001b[38;5;124mf\u001b[39m\u001b[38;5;124m\"\u001b[39m\u001b[38;5;124mVentil_trained_NNs\u001b[39m\u001b[38;5;124m\\\u001b[39m\u001b[38;5;124mmy_example_model.pth\u001b[39m\u001b[38;5;124m\"\u001b[39m\n\u001b[1;32m----> 3\u001b[0m torch\u001b[38;5;241m.\u001b[39msave(\u001b[43mmodel\u001b[49m\u001b[38;5;241m.\u001b[39mstate_dict(), path)\n\u001b[0;32m      5\u001b[0m \u001b[38;5;66;03m# Load the model and test it on the test data\u001b[39;00m\n\u001b[0;32m      7\u001b[0m path \u001b[38;5;241m=\u001b[39m \u001b[38;5;124m\"\u001b[39m\u001b[38;5;124mVentil_trained_NNs\u001b[39m\u001b[38;5;124m\\\u001b[39m\u001b[38;5;124mmy_example_model.pth\u001b[39m\u001b[38;5;124m\"\u001b[39m\n",
      "\u001b[1;31mNameError\u001b[0m: name 'model' is not defined"
     ]
    }
   ],
   "source": [
    "# Save the model\n",
    "path = f\"Ventil_trained_NNs\\my_example_model.pth\"\n",
    "torch.save(model.state_dict(), path)\n",
    "\n",
    "# Load the model and test it on the test data\n",
    "\n",
    "path = \"Ventil_trained_NNs\\my_example_model.pth\"\n",
    "model = LSTMmodel(input_size=3, hidden_size=h_size, out_size=3, layers=l_num, future=1).to(device)\n",
    "#model = RNNmodel(input_size=3, hidden_size=h_size, out_size=2, layers=l_num).to(device)\n",
    "\n",
    "model.load_state_dict(torch.load(path, map_location=torch.device(device)))\n",
    "\n",
    "train_data = input_data[train_inits,:,:]\n",
    "\n",
    "test_loss, test_loss_deriv, total_loss = test(test_data, model, steps=input_data.size(dim=1), ws=window_size, plot_opt=True , n = 1, rand=False)\n",
    "#test_loss, test_loss_deriv, total_loss = test(train_data, model, steps=input_data.size(dim=1), ws=window_size, plot_opt=True , n = 1, rand=False)\n",
    "\n",
    "\n",
    "ic(test_loss, test_loss_deriv, total_loss)"
   ]
  },
  {
   "cell_type": "code",
   "execution_count": 13,
   "metadata": {},
   "outputs": [
    {
     "ename": "RuntimeError",
     "evalue": "Error(s) in loading state_dict for LSTMmodel:\n\tsize mismatch for lstm.weight_ih_l0: copying a param with shape torch.Size([24, 3]) from checkpoint, the shape in current model is torch.Size([32, 3]).\n\tsize mismatch for lstm.weight_hh_l0: copying a param with shape torch.Size([24, 6]) from checkpoint, the shape in current model is torch.Size([32, 8]).\n\tsize mismatch for lstm.bias_ih_l0: copying a param with shape torch.Size([24]) from checkpoint, the shape in current model is torch.Size([32]).\n\tsize mismatch for lstm.bias_hh_l0: copying a param with shape torch.Size([24]) from checkpoint, the shape in current model is torch.Size([32]).\n\tsize mismatch for linear.weight: copying a param with shape torch.Size([2, 6]) from checkpoint, the shape in current model is torch.Size([2, 8]).",
     "output_type": "error",
     "traceback": [
      "\u001b[1;31m---------------------------------------------------------------------------\u001b[0m",
      "\u001b[1;31mRuntimeError\u001b[0m                              Traceback (most recent call last)",
      "Cell \u001b[1;32mIn[13], line 22\u001b[0m\n\u001b[0;32m     19\u001b[0m \u001b[38;5;66;03m# Initialize the LSTM model\u001b[39;00m\n\u001b[0;32m     20\u001b[0m model \u001b[38;5;241m=\u001b[39m LSTMmodel(input_size\u001b[38;5;241m=\u001b[39m\u001b[38;5;241m3\u001b[39m, hidden_size\u001b[38;5;241m=\u001b[39mparams[\u001b[38;5;124m\"\u001b[39m\u001b[38;5;124mh_size\u001b[39m\u001b[38;5;124m\"\u001b[39m], out_size\u001b[38;5;241m=\u001b[39m\u001b[38;5;241m2\u001b[39m, layers\u001b[38;5;241m=\u001b[39mparams[\u001b[38;5;124m\"\u001b[39m\u001b[38;5;124ml_num\u001b[39m\u001b[38;5;124m\"\u001b[39m])\u001b[38;5;241m.\u001b[39mto(device)\n\u001b[1;32m---> 22\u001b[0m \u001b[43mmodel\u001b[49m\u001b[38;5;241;43m.\u001b[39;49m\u001b[43mload_state_dict\u001b[49m\u001b[43m(\u001b[49m\u001b[43mtorch\u001b[49m\u001b[38;5;241;43m.\u001b[39;49m\u001b[43mload\u001b[49m\u001b[43m(\u001b[49m\u001b[43mpath\u001b[49m\u001b[43m,\u001b[49m\u001b[43m \u001b[49m\u001b[43mmap_location\u001b[49m\u001b[38;5;241;43m=\u001b[39;49m\u001b[43mtorch\u001b[49m\u001b[38;5;241;43m.\u001b[39;49m\u001b[43mdevice\u001b[49m\u001b[43m(\u001b[49m\u001b[43mdevice\u001b[49m\u001b[43m)\u001b[49m\u001b[43m)\u001b[49m\u001b[43m)\u001b[49m\n\u001b[0;32m     24\u001b[0m \u001b[38;5;66;03m# Generate input data (the data is normalized and some timesteps are cut off)\u001b[39;00m\n\u001b[0;32m     25\u001b[0m input_data \u001b[38;5;241m=\u001b[39m get_data(path \u001b[38;5;241m=\u001b[39m \u001b[38;5;124m\"\u001b[39m\u001b[38;5;124msave_data_test4.csv\u001b[39m\u001b[38;5;124m\"\u001b[39m, \n\u001b[0;32m     26\u001b[0m                 timesteps_from_data\u001b[38;5;241m=\u001b[39m\u001b[38;5;241m0\u001b[39m, \n\u001b[0;32m     27\u001b[0m                 skip_steps_start \u001b[38;5;241m=\u001b[39m \u001b[38;5;241m0\u001b[39m,\n\u001b[1;32m   (...)\u001b[0m\n\u001b[0;32m     31\u001b[0m                 rescale_p\u001b[38;5;241m=\u001b[39m\u001b[38;5;28;01mFalse\u001b[39;00m,\n\u001b[0;32m     32\u001b[0m                 num_inits\u001b[38;5;241m=\u001b[39mparams[\u001b[38;5;124m\"\u001b[39m\u001b[38;5;124mpart_of_data\u001b[39m\u001b[38;5;124m\"\u001b[39m])\n",
      "File \u001b[1;32mc:\\Users\\strasserp\\AppData\\Local\\anaconda3\\envs\\my_test_env\\Lib\\site-packages\\torch\\nn\\modules\\module.py:2152\u001b[0m, in \u001b[0;36mModule.load_state_dict\u001b[1;34m(self, state_dict, strict, assign)\u001b[0m\n\u001b[0;32m   2147\u001b[0m         error_msgs\u001b[38;5;241m.\u001b[39minsert(\n\u001b[0;32m   2148\u001b[0m             \u001b[38;5;241m0\u001b[39m, \u001b[38;5;124m'\u001b[39m\u001b[38;5;124mMissing key(s) in state_dict: \u001b[39m\u001b[38;5;132;01m{}\u001b[39;00m\u001b[38;5;124m. \u001b[39m\u001b[38;5;124m'\u001b[39m\u001b[38;5;241m.\u001b[39mformat(\n\u001b[0;32m   2149\u001b[0m                 \u001b[38;5;124m'\u001b[39m\u001b[38;5;124m, \u001b[39m\u001b[38;5;124m'\u001b[39m\u001b[38;5;241m.\u001b[39mjoin(\u001b[38;5;124mf\u001b[39m\u001b[38;5;124m'\u001b[39m\u001b[38;5;124m\"\u001b[39m\u001b[38;5;132;01m{\u001b[39;00mk\u001b[38;5;132;01m}\u001b[39;00m\u001b[38;5;124m\"\u001b[39m\u001b[38;5;124m'\u001b[39m \u001b[38;5;28;01mfor\u001b[39;00m k \u001b[38;5;129;01min\u001b[39;00m missing_keys)))\n\u001b[0;32m   2151\u001b[0m \u001b[38;5;28;01mif\u001b[39;00m \u001b[38;5;28mlen\u001b[39m(error_msgs) \u001b[38;5;241m>\u001b[39m \u001b[38;5;241m0\u001b[39m:\n\u001b[1;32m-> 2152\u001b[0m     \u001b[38;5;28;01mraise\u001b[39;00m \u001b[38;5;167;01mRuntimeError\u001b[39;00m(\u001b[38;5;124m'\u001b[39m\u001b[38;5;124mError(s) in loading state_dict for \u001b[39m\u001b[38;5;132;01m{}\u001b[39;00m\u001b[38;5;124m:\u001b[39m\u001b[38;5;130;01m\\n\u001b[39;00m\u001b[38;5;130;01m\\t\u001b[39;00m\u001b[38;5;132;01m{}\u001b[39;00m\u001b[38;5;124m'\u001b[39m\u001b[38;5;241m.\u001b[39mformat(\n\u001b[0;32m   2153\u001b[0m                        \u001b[38;5;28mself\u001b[39m\u001b[38;5;241m.\u001b[39m\u001b[38;5;18m__class__\u001b[39m\u001b[38;5;241m.\u001b[39m\u001b[38;5;18m__name__\u001b[39m, \u001b[38;5;124m\"\u001b[39m\u001b[38;5;130;01m\\n\u001b[39;00m\u001b[38;5;130;01m\\t\u001b[39;00m\u001b[38;5;124m\"\u001b[39m\u001b[38;5;241m.\u001b[39mjoin(error_msgs)))\n\u001b[0;32m   2154\u001b[0m \u001b[38;5;28;01mreturn\u001b[39;00m _IncompatibleKeys(missing_keys, unexpected_keys)\n",
      "\u001b[1;31mRuntimeError\u001b[0m: Error(s) in loading state_dict for LSTMmodel:\n\tsize mismatch for lstm.weight_ih_l0: copying a param with shape torch.Size([24, 3]) from checkpoint, the shape in current model is torch.Size([32, 3]).\n\tsize mismatch for lstm.weight_hh_l0: copying a param with shape torch.Size([24, 6]) from checkpoint, the shape in current model is torch.Size([32, 8]).\n\tsize mismatch for lstm.bias_ih_l0: copying a param with shape torch.Size([24]) from checkpoint, the shape in current model is torch.Size([32]).\n\tsize mismatch for lstm.bias_hh_l0: copying a param with shape torch.Size([24]) from checkpoint, the shape in current model is torch.Size([32]).\n\tsize mismatch for linear.weight: copying a param with shape torch.Size([2, 6]) from checkpoint, the shape in current model is torch.Size([2, 8])."
     ]
    }
   ],
   "source": [
    "params =                        {\n",
    "                           \"experiment_number\" : 6,\n",
    "                           \"window_size\" : 2,\n",
    "                           \"h_size\" : 8,\n",
    "                           \"l_num\" : 1,\n",
    "                           \"epochs\" : 40,\n",
    "                           \"learning_rate\" : 0.001,\n",
    "                           \"part_of_data\" : 0, \n",
    "                           \"weight_decay\" : 1e-5,\n",
    "                           \"percentage_of_data\" : 0.8,\n",
    "                           \"future_decay\"  : 0.1,\n",
    "                           \"batch_size\" : 400,\n",
    "                           \"future\" : 4\n",
    "                        }\n",
    "\n",
    "\n",
    "path = \"Ventil_trained_NNs\\lstm_ws0.pth\"\n",
    "\n",
    "# Initialize the LSTM model\n",
    "model = LSTMmodel(input_size=3, hidden_size=params[\"h_size\"], out_size=2, layers=params[\"l_num\"]).to(device)\n",
    "\n",
    "model.load_state_dict(torch.load(path, map_location=torch.device(device)))\n",
    "\n",
    "# Generate input data (the data is normalized and some timesteps are cut off)\n",
    "input_data = get_data(path = \"save_data_test4.csv\", \n",
    "                timesteps_from_data=0, \n",
    "                skip_steps_start = 0,\n",
    "                skip_steps_end = 0, \n",
    "                drop_half_timesteps = False,\n",
    "                normalise_s_w=\"mean\",\n",
    "                rescale_p=False,\n",
    "                num_inits=params[\"part_of_data\"])\n",
    "\n",
    "cut_off_timesteps = 100\n",
    "\n",
    "#Split data into train and test sets\n",
    "num_of_inits_train = int(len(input_data)*params[\"percentage_of_data\"])\n",
    "train_inits = np.random.choice(np.arange(len(input_data)),num_of_inits_train,replace=False)\n",
    "test_inits = np.array([x for x in range(len(input_data)) if x not in train_inits])\n",
    "\n",
    "train_data = input_data[train_inits,:input_data.size(dim=1)-cut_off_timesteps,:]\n",
    "test_data = input_data[test_inits,:,:]\n",
    "\n",
    "data_set  = CustomDataset(train_data, window_size=params[\"window_size\"], future=params[\"future\"])\n",
    "train_dataloader = DataLoader(data_set, batch_size=params[\"batch_size\"], pin_memory=True, drop_last=True)\n",
    "\n",
    "test(test_data, model, steps=test_data.size(dim=1), ws=params[\"window_size\"], plot_opt=True, n = 5, rand=False)"
   ]
  }
 ],
 "metadata": {
  "kernelspec": {
   "display_name": "Python 3",
   "language": "python",
   "name": "python3"
  },
  "language_info": {
   "codemirror_mode": {
    "name": "ipython",
    "version": 3
   },
   "file_extension": ".py",
   "mimetype": "text/x-python",
   "name": "python",
   "nbconvert_exporter": "python",
   "pygments_lexer": "ipython3",
   "version": "3.11.7"
  }
 },
 "nbformat": 4,
 "nbformat_minor": 2
}
