{
 "cells": [
  {
   "cell_type": "code",
   "execution_count": null,
   "metadata": {},
   "outputs": [],
   "source": [
    "import torch\n",
    "from get_data_fs import *\n",
    "from NN_classes_fs import *\n",
    "from dataloader_fs import *\n",
    "import os \n",
    "from tqdm import tqdm\n",
    "import logging\n",
    "from test_func_fs import *\n",
    "\n",
    "torch.set_default_dtype(torch.float64)\n",
    "device = \"cuda:0\" if torch.cuda.is_available() else \"cpu\""
   ]
  },
  {
   "cell_type": "code",
   "execution_count": null,
   "metadata": {},
   "outputs": [],
   "source": [
    "data = get_data(path=r\"C:\\Users\\strasserp\\Documents\\ventil_lstm\\data_fs\\training_data_full_system_01_IV_sprung.csv\", num_inits=0)\n",
    "# % matplotlib qt\n",
    "for i in range(10):\n",
    "    visualise(data, i)"
   ]
  },
  {
   "cell_type": "code",
   "execution_count": 8,
   "metadata": {},
   "outputs": [],
   "source": [
    "# train function\n",
    "\n",
    "def train_tcn(input_data, model, learning_rate=0.001):\n",
    " \n",
    "    loss_fn = nn.MSELoss()\n",
    "    optimizer = torch.optim.Adam(model.parameters(), lr = learning_rate)\n",
    " \n",
    "    model.train()\n",
    "    total_loss = []\n",
    "  \n",
    "    for k, (x,y) in enumerate(input_data):  # inp = (u, x) label = x\n",
    "        \n",
    "        x = x.to(device)\n",
    "        y = y.to(device)\n",
    "\n",
    "        x = x.transpose(1,2)\n",
    "        y = y.transpose(1,2)\n",
    "\n",
    "        out = model(x)\n",
    "  \n",
    "        # reset the gradient\n",
    "        optimizer.zero_grad(set_to_none=True)\n",
    "        \n",
    "        # calculate the error\n",
    "        loss = loss_fn(out, y)\n",
    "        loss.backward()\n",
    "        optimizer.step()\n",
    " \n",
    "        total_loss.append(loss.detach().cpu().numpy())\n",
    " \n",
    "   # return the average error of the next step prediction\n",
    "    return np.mean(total_loss)\n",
    "\n",
    "def train_lstm(input_data, model, learning_rate=0.001):\n",
    " \n",
    "    loss_fn = nn.MSELoss()\n",
    "    optimizer = torch.optim.Adam(model.parameters(), lr = learning_rate)\n",
    " \n",
    "    model.train()\n",
    "    total_loss = []\n",
    "  \n",
    "    for k, (x,y) in enumerate(input_data):  # inp = (u, x) label = x\n",
    "        \n",
    "        x = x.to(device)\n",
    "        y = y.to(device)\n",
    "        \n",
    "        output, _ = model(x)\n",
    "  \n",
    "        # reset the gradient\n",
    "        optimizer.zero_grad(set_to_none=True)\n",
    "        \n",
    "        # calculate the error\n",
    "        loss = loss_fn(output, y)\n",
    "        loss.backward()\n",
    "        optimizer.step()\n",
    " \n",
    "        total_loss.append(loss.detach().cpu().numpy())\n",
    "    return np.mean(total_loss)"
   ]
  },
  {
   "cell_type": "code",
   "execution_count": 9,
   "metadata": {},
   "outputs": [
    {
     "name": "stdout",
     "output_type": "stream",
     "text": [
      "torch.Size([300, 494, 5])\n"
     ]
    },
    {
     "name": "stderr",
     "output_type": "stream",
     "text": [
      "  2%|▏         | 2/100 [01:38<1:22:37, 50.59s/it]"
     ]
    },
    {
     "name": "stdout",
     "output_type": "stream",
     "text": [
      "Training error :  135.34016843823994\n"
     ]
    },
    {
     "name": "stderr",
     "output_type": "stream",
     "text": [
      "  3%|▎         | 3/100 [02:20<1:15:41, 46.82s/it]"
     ]
    },
    {
     "name": "stdout",
     "output_type": "stream",
     "text": [
      "Training error :  46.11495473860321\n"
     ]
    },
    {
     "name": "stderr",
     "output_type": "stream",
     "text": [
      "  4%|▍         | 4/100 [03:09<1:16:20, 47.72s/it]"
     ]
    },
    {
     "name": "stdout",
     "output_type": "stream",
     "text": [
      "Training error :  8.015480863033421\n"
     ]
    },
    {
     "name": "stderr",
     "output_type": "stream",
     "text": [
      "  5%|▌         | 5/100 [04:00<1:17:23, 48.87s/it]"
     ]
    },
    {
     "name": "stdout",
     "output_type": "stream",
     "text": [
      "Training error :  1.6007867795087443\n"
     ]
    },
    {
     "name": "stderr",
     "output_type": "stream",
     "text": [
      "  6%|▌         | 6/100 [05:02<1:23:36, 53.37s/it]"
     ]
    },
    {
     "name": "stdout",
     "output_type": "stream",
     "text": [
      "Training error :  0.301375830720493\n"
     ]
    },
    {
     "name": "stderr",
     "output_type": "stream",
     "text": [
      "  7%|▋         | 7/100 [05:50<1:19:45, 51.46s/it]"
     ]
    },
    {
     "name": "stdout",
     "output_type": "stream",
     "text": [
      "Training error :  0.062128646038217175\n"
     ]
    },
    {
     "name": "stderr",
     "output_type": "stream",
     "text": [
      "  8%|▊         | 8/100 [06:32<1:14:30, 48.60s/it]"
     ]
    },
    {
     "name": "stdout",
     "output_type": "stream",
     "text": [
      "Training error :  0.038017578354613286\n"
     ]
    },
    {
     "name": "stderr",
     "output_type": "stream",
     "text": [
      "  9%|▉         | 9/100 [07:17<1:11:57, 47.45s/it]"
     ]
    },
    {
     "name": "stdout",
     "output_type": "stream",
     "text": [
      "Training error :  0.02865610454772022\n"
     ]
    },
    {
     "name": "stderr",
     "output_type": "stream",
     "text": [
      " 10%|█         | 10/100 [08:05<1:11:30, 47.67s/it]"
     ]
    },
    {
     "name": "stdout",
     "output_type": "stream",
     "text": [
      "Training error :  0.02404164914208214\n"
     ]
    },
    {
     "name": "stderr",
     "output_type": "stream",
     "text": [
      " 12%|█▏        | 12/100 [09:32<1:06:46, 45.53s/it]"
     ]
    },
    {
     "name": "stdout",
     "output_type": "stream",
     "text": [
      "Training error :  0.019025830074208733\n"
     ]
    },
    {
     "name": "stderr",
     "output_type": "stream",
     "text": [
      " 13%|█▎        | 13/100 [10:16<1:05:08, 44.93s/it]"
     ]
    },
    {
     "name": "stdout",
     "output_type": "stream",
     "text": [
      "Training error :  0.0174553517450591\n"
     ]
    },
    {
     "name": "stderr",
     "output_type": "stream",
     "text": [
      " 14%|█▍        | 14/100 [11:12<1:09:27, 48.46s/it]"
     ]
    },
    {
     "name": "stdout",
     "output_type": "stream",
     "text": [
      "Training error :  0.016307372303476123\n"
     ]
    },
    {
     "name": "stderr",
     "output_type": "stream",
     "text": [
      " 15%|█▌        | 15/100 [12:05<1:10:35, 49.83s/it]"
     ]
    },
    {
     "name": "stdout",
     "output_type": "stream",
     "text": [
      "Training error :  0.015512352062895496\n"
     ]
    },
    {
     "name": "stderr",
     "output_type": "stream",
     "text": [
      " 16%|█▌        | 16/100 [12:54<1:09:12, 49.43s/it]"
     ]
    },
    {
     "name": "stdout",
     "output_type": "stream",
     "text": [
      "Training error :  0.01539823629860795\n"
     ]
    },
    {
     "name": "stderr",
     "output_type": "stream",
     "text": [
      " 17%|█▋        | 17/100 [13:41<1:07:25, 48.74s/it]"
     ]
    },
    {
     "name": "stdout",
     "output_type": "stream",
     "text": [
      "Training error :  0.01611861528070595\n"
     ]
    },
    {
     "name": "stderr",
     "output_type": "stream",
     "text": [
      " 18%|█▊        | 18/100 [14:30<1:06:42, 48.81s/it]"
     ]
    },
    {
     "name": "stdout",
     "output_type": "stream",
     "text": [
      "Training error :  0.016625490892425227\n"
     ]
    },
    {
     "name": "stderr",
     "output_type": "stream",
     "text": [
      " 18%|█▊        | 18/100 [14:44<1:07:07, 49.11s/it]\n"
     ]
    },
    {
     "ename": "KeyboardInterrupt",
     "evalue": "",
     "output_type": "error",
     "traceback": [
      "\u001b[1;31m---------------------------------------------------------------------------\u001b[0m",
      "\u001b[1;31mKeyboardInterrupt\u001b[0m                         Traceback (most recent call last)",
      "Cell \u001b[1;32mIn[9], line 51\u001b[0m\n\u001b[0;32m     48\u001b[0m \u001b[38;5;66;03m#Training loop\u001b[39;00m\n\u001b[0;32m     49\u001b[0m \u001b[38;5;28;01mfor\u001b[39;00m e \u001b[38;5;129;01min\u001b[39;00m tqdm(\u001b[38;5;28mrange\u001b[39m(params_lstm[\u001b[38;5;124m\"\u001b[39m\u001b[38;5;124mepochs\u001b[39m\u001b[38;5;124m\"\u001b[39m])):\n\u001b[1;32m---> 51\u001b[0m     train_error \u001b[38;5;241m=\u001b[39m \u001b[43mtrain_lstm\u001b[49m\u001b[43m(\u001b[49m\u001b[43mtrain_loader_lstm\u001b[49m\u001b[43m,\u001b[49m\u001b[43m \u001b[49m\u001b[43mmodel_lstm\u001b[49m\u001b[43m,\u001b[49m\u001b[43m \u001b[49m\u001b[43mlearning_rate\u001b[49m\u001b[38;5;241;43m=\u001b[39;49m\u001b[43m \u001b[49m\u001b[43mparams_lstm\u001b[49m\u001b[43m[\u001b[49m\u001b[38;5;124;43m\"\u001b[39;49m\u001b[38;5;124;43mlearning_rate\u001b[39;49m\u001b[38;5;124;43m\"\u001b[39;49m\u001b[43m]\u001b[49m\u001b[43m)\u001b[49m\n\u001b[0;32m     52\u001b[0m     \u001b[38;5;28;01mif\u001b[39;00m e \u001b[38;5;241m%\u001b[39m \u001b[38;5;241m10\u001b[39m:\n\u001b[0;32m     53\u001b[0m         \u001b[38;5;28mprint\u001b[39m(\u001b[38;5;124m\"\u001b[39m\u001b[38;5;124mTraining error : \u001b[39m\u001b[38;5;124m\"\u001b[39m, train_error)\n",
      "Cell \u001b[1;32mIn[8], line 47\u001b[0m, in \u001b[0;36mtrain_lstm\u001b[1;34m(input_data, model, learning_rate)\u001b[0m\n\u001b[0;32m     44\u001b[0m x \u001b[38;5;241m=\u001b[39m x\u001b[38;5;241m.\u001b[39mto(device)\n\u001b[0;32m     45\u001b[0m y \u001b[38;5;241m=\u001b[39m y\u001b[38;5;241m.\u001b[39mto(device)\n\u001b[1;32m---> 47\u001b[0m output, _ \u001b[38;5;241m=\u001b[39m \u001b[43mmodel\u001b[49m\u001b[43m(\u001b[49m\u001b[43mx\u001b[49m\u001b[43m)\u001b[49m\n\u001b[0;32m     49\u001b[0m \u001b[38;5;66;03m# reset the gradient\u001b[39;00m\n\u001b[0;32m     50\u001b[0m optimizer\u001b[38;5;241m.\u001b[39mzero_grad(set_to_none\u001b[38;5;241m=\u001b[39m\u001b[38;5;28;01mTrue\u001b[39;00m)\n",
      "File \u001b[1;32mc:\\Users\\strasserp\\AppData\\Local\\anaconda3\\envs\\my_test_env\\Lib\\site-packages\\torch\\nn\\modules\\module.py:1518\u001b[0m, in \u001b[0;36mModule._wrapped_call_impl\u001b[1;34m(self, *args, **kwargs)\u001b[0m\n\u001b[0;32m   1516\u001b[0m     \u001b[38;5;28;01mreturn\u001b[39;00m \u001b[38;5;28mself\u001b[39m\u001b[38;5;241m.\u001b[39m_compiled_call_impl(\u001b[38;5;241m*\u001b[39margs, \u001b[38;5;241m*\u001b[39m\u001b[38;5;241m*\u001b[39mkwargs)  \u001b[38;5;66;03m# type: ignore[misc]\u001b[39;00m\n\u001b[0;32m   1517\u001b[0m \u001b[38;5;28;01melse\u001b[39;00m:\n\u001b[1;32m-> 1518\u001b[0m     \u001b[38;5;28;01mreturn\u001b[39;00m \u001b[38;5;28;43mself\u001b[39;49m\u001b[38;5;241;43m.\u001b[39;49m\u001b[43m_call_impl\u001b[49m\u001b[43m(\u001b[49m\u001b[38;5;241;43m*\u001b[39;49m\u001b[43margs\u001b[49m\u001b[43m,\u001b[49m\u001b[43m \u001b[49m\u001b[38;5;241;43m*\u001b[39;49m\u001b[38;5;241;43m*\u001b[39;49m\u001b[43mkwargs\u001b[49m\u001b[43m)\u001b[49m\n",
      "File \u001b[1;32mc:\\Users\\strasserp\\AppData\\Local\\anaconda3\\envs\\my_test_env\\Lib\\site-packages\\torch\\nn\\modules\\module.py:1527\u001b[0m, in \u001b[0;36mModule._call_impl\u001b[1;34m(self, *args, **kwargs)\u001b[0m\n\u001b[0;32m   1522\u001b[0m \u001b[38;5;66;03m# If we don't have any hooks, we want to skip the rest of the logic in\u001b[39;00m\n\u001b[0;32m   1523\u001b[0m \u001b[38;5;66;03m# this function, and just call forward.\u001b[39;00m\n\u001b[0;32m   1524\u001b[0m \u001b[38;5;28;01mif\u001b[39;00m \u001b[38;5;129;01mnot\u001b[39;00m (\u001b[38;5;28mself\u001b[39m\u001b[38;5;241m.\u001b[39m_backward_hooks \u001b[38;5;129;01mor\u001b[39;00m \u001b[38;5;28mself\u001b[39m\u001b[38;5;241m.\u001b[39m_backward_pre_hooks \u001b[38;5;129;01mor\u001b[39;00m \u001b[38;5;28mself\u001b[39m\u001b[38;5;241m.\u001b[39m_forward_hooks \u001b[38;5;129;01mor\u001b[39;00m \u001b[38;5;28mself\u001b[39m\u001b[38;5;241m.\u001b[39m_forward_pre_hooks\n\u001b[0;32m   1525\u001b[0m         \u001b[38;5;129;01mor\u001b[39;00m _global_backward_pre_hooks \u001b[38;5;129;01mor\u001b[39;00m _global_backward_hooks\n\u001b[0;32m   1526\u001b[0m         \u001b[38;5;129;01mor\u001b[39;00m _global_forward_hooks \u001b[38;5;129;01mor\u001b[39;00m _global_forward_pre_hooks):\n\u001b[1;32m-> 1527\u001b[0m     \u001b[38;5;28;01mreturn\u001b[39;00m \u001b[43mforward_call\u001b[49m\u001b[43m(\u001b[49m\u001b[38;5;241;43m*\u001b[39;49m\u001b[43margs\u001b[49m\u001b[43m,\u001b[49m\u001b[43m \u001b[49m\u001b[38;5;241;43m*\u001b[39;49m\u001b[38;5;241;43m*\u001b[39;49m\u001b[43mkwargs\u001b[49m\u001b[43m)\u001b[49m\n\u001b[0;32m   1529\u001b[0m \u001b[38;5;28;01mtry\u001b[39;00m:\n\u001b[0;32m   1530\u001b[0m     result \u001b[38;5;241m=\u001b[39m \u001b[38;5;28;01mNone\u001b[39;00m\n",
      "File \u001b[1;32mc:\\Users\\strasserp\\Documents\\ventil_lstm\\Full_System\\NN_classes_fs.py:53\u001b[0m, in \u001b[0;36mOR_LSTM.forward\u001b[1;34m(self, one_full_traj)\u001b[0m\n\u001b[0;32m     49\u001b[0m \u001b[38;5;28;01mfor\u001b[39;00m t \u001b[38;5;129;01min\u001b[39;00m \u001b[38;5;28mrange\u001b[39m(\u001b[38;5;28mself\u001b[39m\u001b[38;5;241m.\u001b[39mws, one_full_traj\u001b[38;5;241m.\u001b[39msize(dim\u001b[38;5;241m=\u001b[39m\u001b[38;5;241m1\u001b[39m) \u001b[38;5;241m-\u001b[39m \u001b[38;5;28mself\u001b[39m\u001b[38;5;241m.\u001b[39mws):\n\u001b[0;32m     51\u001b[0m     seq \u001b[38;5;241m=\u001b[39m torch\u001b[38;5;241m.\u001b[39mcat((one_full_traj[:, t : t \u001b[38;5;241m+\u001b[39m \u001b[38;5;28mself\u001b[39m\u001b[38;5;241m.\u001b[39mws, \u001b[38;5;241m0\u001b[39m:\u001b[38;5;241m2\u001b[39m], out[:, t \u001b[38;5;241m-\u001b[39m \u001b[38;5;28mself\u001b[39m\u001b[38;5;241m.\u001b[39mws : t , :]), dim\u001b[38;5;241m=\u001b[39m\u001b[38;5;241m2\u001b[39m)\n\u001b[1;32m---> 53\u001b[0m     lstm_out, hidden \u001b[38;5;241m=\u001b[39m \u001b[38;5;28;43mself\u001b[39;49m\u001b[38;5;241;43m.\u001b[39;49m\u001b[43mlstm\u001b[49m\u001b[43m(\u001b[49m\u001b[43mseq\u001b[49m\u001b[43m)\u001b[49m           \n\u001b[0;32m     54\u001b[0m     pred \u001b[38;5;241m=\u001b[39m \u001b[38;5;28mself\u001b[39m\u001b[38;5;241m.\u001b[39mlinear(lstm_out)\n\u001b[0;32m     56\u001b[0m     out \u001b[38;5;241m=\u001b[39m torch\u001b[38;5;241m.\u001b[39mcat((out, out[:, t\u001b[38;5;241m-\u001b[39m\u001b[38;5;241m1\u001b[39m:t, :] \u001b[38;5;241m+\u001b[39m pred[:, \u001b[38;5;241m-\u001b[39m\u001b[38;5;241m1\u001b[39m: , :]), dim\u001b[38;5;241m=\u001b[39m\u001b[38;5;241m1\u001b[39m)\n",
      "File \u001b[1;32mc:\\Users\\strasserp\\AppData\\Local\\anaconda3\\envs\\my_test_env\\Lib\\site-packages\\torch\\nn\\modules\\module.py:1518\u001b[0m, in \u001b[0;36mModule._wrapped_call_impl\u001b[1;34m(self, *args, **kwargs)\u001b[0m\n\u001b[0;32m   1516\u001b[0m     \u001b[38;5;28;01mreturn\u001b[39;00m \u001b[38;5;28mself\u001b[39m\u001b[38;5;241m.\u001b[39m_compiled_call_impl(\u001b[38;5;241m*\u001b[39margs, \u001b[38;5;241m*\u001b[39m\u001b[38;5;241m*\u001b[39mkwargs)  \u001b[38;5;66;03m# type: ignore[misc]\u001b[39;00m\n\u001b[0;32m   1517\u001b[0m \u001b[38;5;28;01melse\u001b[39;00m:\n\u001b[1;32m-> 1518\u001b[0m     \u001b[38;5;28;01mreturn\u001b[39;00m \u001b[38;5;28;43mself\u001b[39;49m\u001b[38;5;241;43m.\u001b[39;49m\u001b[43m_call_impl\u001b[49m\u001b[43m(\u001b[49m\u001b[38;5;241;43m*\u001b[39;49m\u001b[43margs\u001b[49m\u001b[43m,\u001b[49m\u001b[43m \u001b[49m\u001b[38;5;241;43m*\u001b[39;49m\u001b[38;5;241;43m*\u001b[39;49m\u001b[43mkwargs\u001b[49m\u001b[43m)\u001b[49m\n",
      "File \u001b[1;32mc:\\Users\\strasserp\\AppData\\Local\\anaconda3\\envs\\my_test_env\\Lib\\site-packages\\torch\\nn\\modules\\module.py:1527\u001b[0m, in \u001b[0;36mModule._call_impl\u001b[1;34m(self, *args, **kwargs)\u001b[0m\n\u001b[0;32m   1522\u001b[0m \u001b[38;5;66;03m# If we don't have any hooks, we want to skip the rest of the logic in\u001b[39;00m\n\u001b[0;32m   1523\u001b[0m \u001b[38;5;66;03m# this function, and just call forward.\u001b[39;00m\n\u001b[0;32m   1524\u001b[0m \u001b[38;5;28;01mif\u001b[39;00m \u001b[38;5;129;01mnot\u001b[39;00m (\u001b[38;5;28mself\u001b[39m\u001b[38;5;241m.\u001b[39m_backward_hooks \u001b[38;5;129;01mor\u001b[39;00m \u001b[38;5;28mself\u001b[39m\u001b[38;5;241m.\u001b[39m_backward_pre_hooks \u001b[38;5;129;01mor\u001b[39;00m \u001b[38;5;28mself\u001b[39m\u001b[38;5;241m.\u001b[39m_forward_hooks \u001b[38;5;129;01mor\u001b[39;00m \u001b[38;5;28mself\u001b[39m\u001b[38;5;241m.\u001b[39m_forward_pre_hooks\n\u001b[0;32m   1525\u001b[0m         \u001b[38;5;129;01mor\u001b[39;00m _global_backward_pre_hooks \u001b[38;5;129;01mor\u001b[39;00m _global_backward_hooks\n\u001b[0;32m   1526\u001b[0m         \u001b[38;5;129;01mor\u001b[39;00m _global_forward_hooks \u001b[38;5;129;01mor\u001b[39;00m _global_forward_pre_hooks):\n\u001b[1;32m-> 1527\u001b[0m     \u001b[38;5;28;01mreturn\u001b[39;00m \u001b[43mforward_call\u001b[49m\u001b[43m(\u001b[49m\u001b[38;5;241;43m*\u001b[39;49m\u001b[43margs\u001b[49m\u001b[43m,\u001b[49m\u001b[43m \u001b[49m\u001b[38;5;241;43m*\u001b[39;49m\u001b[38;5;241;43m*\u001b[39;49m\u001b[43mkwargs\u001b[49m\u001b[43m)\u001b[49m\n\u001b[0;32m   1529\u001b[0m \u001b[38;5;28;01mtry\u001b[39;00m:\n\u001b[0;32m   1530\u001b[0m     result \u001b[38;5;241m=\u001b[39m \u001b[38;5;28;01mNone\u001b[39;00m\n",
      "File \u001b[1;32mc:\\Users\\strasserp\\AppData\\Local\\anaconda3\\envs\\my_test_env\\Lib\\site-packages\\torch\\nn\\modules\\rnn.py:879\u001b[0m, in \u001b[0;36mLSTM.forward\u001b[1;34m(self, input, hx)\u001b[0m\n\u001b[0;32m    876\u001b[0m         hx \u001b[38;5;241m=\u001b[39m \u001b[38;5;28mself\u001b[39m\u001b[38;5;241m.\u001b[39mpermute_hidden(hx, sorted_indices)\n\u001b[0;32m    878\u001b[0m \u001b[38;5;28;01mif\u001b[39;00m batch_sizes \u001b[38;5;129;01mis\u001b[39;00m \u001b[38;5;28;01mNone\u001b[39;00m:\n\u001b[1;32m--> 879\u001b[0m     result \u001b[38;5;241m=\u001b[39m \u001b[43m_VF\u001b[49m\u001b[38;5;241;43m.\u001b[39;49m\u001b[43mlstm\u001b[49m\u001b[43m(\u001b[49m\u001b[38;5;28;43minput\u001b[39;49m\u001b[43m,\u001b[49m\u001b[43m \u001b[49m\u001b[43mhx\u001b[49m\u001b[43m,\u001b[49m\u001b[43m \u001b[49m\u001b[38;5;28;43mself\u001b[39;49m\u001b[38;5;241;43m.\u001b[39;49m\u001b[43m_flat_weights\u001b[49m\u001b[43m,\u001b[49m\u001b[43m \u001b[49m\u001b[38;5;28;43mself\u001b[39;49m\u001b[38;5;241;43m.\u001b[39;49m\u001b[43mbias\u001b[49m\u001b[43m,\u001b[49m\u001b[43m \u001b[49m\u001b[38;5;28;43mself\u001b[39;49m\u001b[38;5;241;43m.\u001b[39;49m\u001b[43mnum_layers\u001b[49m\u001b[43m,\u001b[49m\n\u001b[0;32m    880\u001b[0m \u001b[43m                      \u001b[49m\u001b[38;5;28;43mself\u001b[39;49m\u001b[38;5;241;43m.\u001b[39;49m\u001b[43mdropout\u001b[49m\u001b[43m,\u001b[49m\u001b[43m \u001b[49m\u001b[38;5;28;43mself\u001b[39;49m\u001b[38;5;241;43m.\u001b[39;49m\u001b[43mtraining\u001b[49m\u001b[43m,\u001b[49m\u001b[43m \u001b[49m\u001b[38;5;28;43mself\u001b[39;49m\u001b[38;5;241;43m.\u001b[39;49m\u001b[43mbidirectional\u001b[49m\u001b[43m,\u001b[49m\u001b[43m \u001b[49m\u001b[38;5;28;43mself\u001b[39;49m\u001b[38;5;241;43m.\u001b[39;49m\u001b[43mbatch_first\u001b[49m\u001b[43m)\u001b[49m\n\u001b[0;32m    881\u001b[0m \u001b[38;5;28;01melse\u001b[39;00m:\n\u001b[0;32m    882\u001b[0m     result \u001b[38;5;241m=\u001b[39m _VF\u001b[38;5;241m.\u001b[39mlstm(\u001b[38;5;28minput\u001b[39m, batch_sizes, hx, \u001b[38;5;28mself\u001b[39m\u001b[38;5;241m.\u001b[39m_flat_weights, \u001b[38;5;28mself\u001b[39m\u001b[38;5;241m.\u001b[39mbias,\n\u001b[0;32m    883\u001b[0m                       \u001b[38;5;28mself\u001b[39m\u001b[38;5;241m.\u001b[39mnum_layers, \u001b[38;5;28mself\u001b[39m\u001b[38;5;241m.\u001b[39mdropout, \u001b[38;5;28mself\u001b[39m\u001b[38;5;241m.\u001b[39mtraining, \u001b[38;5;28mself\u001b[39m\u001b[38;5;241m.\u001b[39mbidirectional)\n",
      "\u001b[1;31mKeyboardInterrupt\u001b[0m: "
     ]
    }
   ],
   "source": [
    "### LSTM ###\n",
    "params_lstm =    {\n",
    "                        \"window_size\" : 16,\n",
    "                        \"h_size\" : 8,\n",
    "                        \"l_num\" : 3,\n",
    "                        \"learning_rate\" : 0.0008,\n",
    "                        \"batch_size\" : 20,\n",
    "                        \"percentage_of_data\" : 0.9,\n",
    "                        \"cut_off_timesteps\" : 300,\n",
    "                        \"part_of_data\" : 100,\n",
    "                        \"epochs\" : 100,\n",
    "                        \"test_every_epochs\" : 20,\n",
    "                        \"input_channels\" : 5,\n",
    "                        \"output\" : 3\n",
    "                    }\n",
    "\n",
    "# Configure logging\n",
    "log_file = 'training_fullsystem.log'\n",
    "filemode = 'a' if os.path.exists(log_file) else 'w'\n",
    "logging.basicConfig(filename=log_file, filemode=filemode, level=logging.INFO, format='%(asctime)s - %(levelname)s - %(message)s')\n",
    "\n",
    "# Initialize the LSTM model\n",
    "model_lstm = OR_LSTM(input_size=5, hidden_size=params_lstm[\"h_size\"], out_size=3, layers=params_lstm[\"l_num\"], window_size=params_lstm[\"window_size\"]).to(device)\n",
    "\n",
    "# Generate input data (the data is normalized and some timesteps are cut off)\n",
    "input_data1 = get_data(path = r\"C:\\Users\\strasserp\\Documents\\ventil_lstm\\data_fs\\training_data_full_system_01_IV_sprung.csv\", num_inits=params_lstm[\"part_of_data\"])\n",
    "input_data2 = get_data(path = r\"C:\\Users\\strasserp\\Documents\\ventil_lstm\\data_fs\\training_data_full_system_01_IV2.csv\", num_inits=params_lstm[\"part_of_data\"])\n",
    "input_data3 = get_data(path = r\"C:\\Users\\strasserp\\Documents\\ventil_lstm\\data_fs\\training_data_full_system_01_randomwalk.csv\", num_inits=params_lstm[\"part_of_data\"])\n",
    "\n",
    "input_data = torch.cat((input_data1, input_data2, input_data3))\n",
    "print(input_data.size())\n",
    "\n",
    "#Split data into train and test sets\n",
    "np.random.seed(1234)\n",
    "num_of_inits_train = int(len(input_data)*params_lstm[\"percentage_of_data\"])\n",
    "train_inits = np.random.choice(np.arange(len(input_data)),num_of_inits_train,replace=False)\n",
    "test_inits = np.array([x for x in range(len(input_data)) if x not in train_inits])\n",
    "np.random.shuffle(train_inits)\n",
    "np.random.shuffle(test_inits)\n",
    "train_data = input_data[train_inits,:input_data.size(dim=1)-params_lstm[\"cut_off_timesteps\"],:]\n",
    "test_data = input_data[test_inits,:,:]\n",
    "\n",
    "# dataloader for batching during training\n",
    "train_set_lstm = custom_simple_dataset(train_data, window_size=params_lstm[\"window_size\"])\n",
    "train_loader_lstm = DataLoader(train_set_lstm, batch_size=params_lstm[\"batch_size\"], pin_memory=True)\n",
    "\n",
    "average_traj_err_train_lstm=[]\n",
    "#Training loop\n",
    "for e in tqdm(range(params_lstm[\"epochs\"])):\n",
    "    \n",
    "    train_error = train_lstm(train_loader_lstm, model_lstm, learning_rate= params_lstm[\"learning_rate\"])\n",
    "    if e % 10:\n",
    "        print(\"Training error : \", train_error)\n",
    "\n",
    "    # Every few epochs get the error MSE of the true data\n",
    "    # compared to the network prediction starting from some initial conditions\n",
    "    if (e+1)%params_lstm[\"test_every_epochs\"] == 0:\n",
    "        err_test_lstm = test(test_data.to(device), model_lstm, model_type=\"lstm\", window_size=params_lstm[\"window_size\"], display_plots=False, numb_of_inits = 1)\n",
    "        average_traj_err_train_lstm.append(err_test_lstm)\n",
    "        print(f\"Average error over full trajectories: training data LSTM: {err_test_lstm}\")\n",
    "        \n",
    "# Save trained model\n",
    "path_lstm = f'Full_System/or_test_lstm.pth'\n",
    "\n",
    "torch.save(model_lstm.state_dict(), path_lstm)\n",
    "\n",
    "print(f\"Run finished!\")\n",
    "\n",
    "# Log parameters\n",
    "\n",
    "logging.info(f\"hyperparams LSTM: {params_lstm}\")\n",
    "logging.info(f\"LSTM {average_traj_err_train_lstm}\")   \n",
    "logging.info(\"--------------------------------------------------------------------------------------------------------------------------------------------------------------------------------------------------------------------------\")\n",
    "logging.info(\"\\n\")"
   ]
  },
  {
   "cell_type": "code",
   "execution_count": null,
   "metadata": {},
   "outputs": [],
   "source": [
    "# main (set parameters, logging, save model) \n",
    "\n",
    "params_tcn =    {\n",
    "                        \"window_size\" : 30,\n",
    "                        \"learning_rate\" : 0.001,\n",
    "                        \"batch_size\" : 20,\n",
    "                        \"percentage_of_data\" : 0.9,\n",
    "                        \"cut_off_timesteps\" : 300,\n",
    "                        \"part_of_data\" : 10,\n",
    "                        \"epochs\" : 100,\n",
    "                        \"test_every_epochs\" : 2,\n",
    "\n",
    "                        \"kernel_size\" : 7,\n",
    "                        \"dropout\" : 0,\n",
    "                        \"n_hidden\" : 5,\n",
    "                        \"levels\" : 4,\n",
    "                        \"input_channels\" : 5,\n",
    "                        \"output\" : 3\n",
    "                    }\n",
    "\n",
    "# Configure logging\n",
    "log_file = 'training_fullsystem.log'\n",
    "filemode = 'a' if os.path.exists(log_file) else 'w'\n",
    "logging.basicConfig(filename=log_file, filemode=filemode, level=logging.INFO, format='%(asctime)s - %(levelname)s - %(message)s')\n",
    "\n",
    "# Initialize the TCN model\n",
    "input_channels = params_tcn[\"input_channels\"]\n",
    "output = params_tcn[\"output\"]\n",
    "num_channels = [params_tcn[\"n_hidden\"]] * params_tcn[\"levels\"]\n",
    "kernel_size = params_tcn[\"kernel_size\"]\n",
    "dropout = params_tcn[\"dropout\"]\n",
    "model_tcn = OR_TCN(input_channels, output, num_channels, kernel_size=kernel_size, dropout=dropout, windowsize=params_tcn[\"window_size\"]).to(device)\n",
    "\n",
    "# Generate input data (the data is normalized and some timesteps are cut off)\n",
    "input_data1 = get_data(path = r\"C:\\Users\\strasserp\\Documents\\ventil_lstm\\data_fs\\training_data_full_system_100.csv\", num_inits=params_tcn[\"part_of_data\"])\n",
    "input_data2 = get_data(path = r\"C:\\Users\\strasserp\\Documents\\ventil_lstm\\data_fs\\training_data_full_system_randomwalks.csv\", num_inits=params_tcn[\"part_of_data\"])\n",
    "\n",
    "input_data = torch.cat((input_data1, input_data2))\n",
    "print(input_data.size())\n",
    "\n",
    "#Split data into train and test sets\n",
    "np.random.seed(1234)\n",
    "num_of_inits_train = int(len(input_data)*params_tcn[\"percentage_of_data\"])\n",
    "train_inits = np.random.choice(np.arange(len(input_data)),num_of_inits_train,replace=False)\n",
    "test_inits = np.array([x for x in range(len(input_data)) if x not in train_inits])\n",
    "np.random.shuffle(train_inits)\n",
    "np.random.shuffle(test_inits)\n",
    "train_data = input_data[train_inits,:input_data.size(dim=1)-params_tcn[\"cut_off_timesteps\"],:]\n",
    "test_data = input_data[test_inits,:,:]\n",
    "\n",
    "# dataloader for batching during training\n",
    "train_set_tcn = custom_simple_dataset(train_data, window_size=params_tcn[\"window_size\"])\n",
    "train_loader_tcn = DataLoader(train_set_tcn, batch_size=params_tcn[\"batch_size\"], pin_memory=True)\n",
    "\n",
    "average_traj_err_train_tcn = []\n",
    "\n",
    "#Training loop\n",
    "for e in tqdm(range(params_tcn[\"epochs\"])):\n",
    "    \n",
    "    train_error = train_tcn(train_loader_tcn, model_tcn, learning_rate= params_tcn[\"learning_rate\"])\n",
    "    if e % 10:\n",
    "        print(\"Training error : \", train_error)\n",
    "\n",
    "    # Every few epochs get the error MSE of the true data\n",
    "    # compared to the network prediction starting from some initial conditions\n",
    "    if (e+1)%params_tcn[\"test_every_epochs\"] == 0:\n",
    "        err_test_tcn = test(test_data.to(device), model_tcn, model_type=\"tcn\", window_size=params_tcn[\"window_size\"], display_plots=True, numb_of_inits = 1)\n",
    "        average_traj_err_train_tcn.append(err_test_tcn)\n",
    "        print(f\"Average error over full trajectories: training data TCN: {err_test_tcn}\")\n",
    "        \n",
    "# Save trained model\n",
    "path_tcn = f'Full_System/or_test_tcn.pth'\n",
    "\n",
    "torch.save(model_tcn.state_dict(), path_tcn)\n",
    "\n",
    "print(f\"Run finished!\")\n",
    "\n",
    "# Log parameters\n",
    "\n",
    "logging.info(f\"hyperparams tcn: {params_tcn}\")\n",
    "logging.info(f\"TCN {average_traj_err_train_tcn}\")   \n",
    "logging.info(\"--------------------------------------------------------------------------------------------------------------------------------------------------------------------------------------------------------------------------\")\n",
    "logging.info(\"\\n\")\n"
   ]
  },
  {
   "cell_type": "code",
   "execution_count": null,
   "metadata": {},
   "outputs": [],
   "source": [
    "\n",
    "#main (set parameters, logging, save model) \n",
    "\n",
    "params_tcn =    {\n",
    "                        \"window_size\" : 30,\n",
    "                        \"learning_rate\" : 0.001,\n",
    "                        \"batch_size\" : 20,\n",
    "                        \"percentage_of_data\" : 0.9,\n",
    "                        \"cut_off_timesteps\" : 300,\n",
    "                        \"part_of_data\" : 10,\n",
    "                        \"epochs\" : 100,\n",
    "                        \"test_every_epochs\" : 2,\n",
    "\n",
    "                        \"kernel_size\" : 7,\n",
    "                        \"dropout\" : 0,\n",
    "                        \"n_hidden\" : 5,\n",
    "                        \"levels\" : 4,\n",
    "                        \"input_channels\" : 5,\n",
    "                        \"output\" : 3\n",
    "                    }\n",
    "\n",
    "# Configure logging\n",
    "log_file = 'training_fullsystem.log'\n",
    "filemode = 'a' if os.path.exists(log_file) else 'w'\n",
    "logging.basicConfig(filename=log_file, filemode=filemode, level=logging.INFO, format='%(asctime)s - %(levelname)s - %(message)s')\n",
    "\n",
    "# Initialize the TCN model\n",
    "input_channels = params_tcn[\"input_channels\"]\n",
    "output = params_tcn[\"output\"]\n",
    "num_channels = [params_tcn[\"n_hidden\"]] * params_tcn[\"levels\"]\n",
    "kernel_size = params_tcn[\"kernel_size\"]\n",
    "dropout = params_tcn[\"dropout\"]\n",
    "model_tcn = OR_TCN(input_channels, output, num_channels, kernel_size=kernel_size, dropout=dropout, windowsize=params_tcn[\"window_size\"]).to(device)\n",
    "\n",
    "# Generate input data (the data is normalized and some timesteps are cut off)\n",
    "input_data1 = get_data(path = r\"C:\\Users\\strasserp\\Documents\\ventil_lstm\\data_fs\\training_data_full_system_100.csv\", num_inits=params_tcn[\"part_of_data\"])\n",
    "input_data2 = get_data(path = r\"C:\\Users\\strasserp\\Documents\\ventil_lstm\\data_fs\\training_data_full_system_100.csv\", num_inits=params_tcn[\"part_of_data\"])\n",
    "\n",
    "input_data = torch.cat((input_data1, input_data2))\n",
    "print(input_data.size())\n",
    "\n",
    "#Split data into train and test sets\n",
    "np.random.seed(1234)\n",
    "num_of_inits_train = int(len(input_data)*params_tcn[\"percentage_of_data\"])\n",
    "train_inits = np.random.choice(np.arange(len(input_data)),num_of_inits_train,replace=False)\n",
    "test_inits = np.array([x for x in range(len(input_data)) if x not in train_inits])\n",
    "np.random.shuffle(train_inits)\n",
    "np.random.shuffle(test_inits)\n",
    "train_data = input_data[train_inits,:input_data.size(dim=1)-params_tcn[\"cut_off_timesteps\"],:]\n",
    "test_data = input_data[test_inits,:,:]\n",
    "\n",
    "# dataloader for batching during training\n",
    "train_set_tcn = custom_simple_dataset(train_data, window_size=params_tcn[\"window_size\"])\n",
    "train_loader_tcn = DataLoader(train_set_tcn, batch_size=params_tcn[\"batch_size\"], pin_memory=True)\n",
    "\n",
    "model_tcn = OR_TCN(input_channels, output, num_channels, kernel_size=7, dropout=dropout, windowsize=params_tcn[\"window_size\"]).to(device)\n",
    "path=r\"or_tcn_trained.pth\"\n",
    "model_tcn.load_state_dict(torch.load(path, map_location=torch.device(device)))\n",
    "\n",
    "\n",
    "test(test_data.to(device), model_tcn, model_type=\"tcn\", window_size=params_tcn[\"window_size\"], display_plots=True, numb_of_inits = 3)"
   ]
  }
 ],
 "metadata": {
  "kernelspec": {
   "display_name": "my_test_env",
   "language": "python",
   "name": "python3"
  },
  "language_info": {
   "codemirror_mode": {
    "name": "ipython",
    "version": 3
   },
   "file_extension": ".py",
   "mimetype": "text/x-python",
   "name": "python",
   "nbconvert_exporter": "python",
   "pygments_lexer": "ipython3",
   "version": "3.11.7"
  }
 },
 "nbformat": 4,
 "nbformat_minor": 2
}
