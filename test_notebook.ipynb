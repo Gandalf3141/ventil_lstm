{
 "cells": [
  {
   "cell_type": "markdown",
   "metadata": {},
   "source": [
    "This notebook gives an overview of the lstm neural network simulation"
   ]
  },
  {
   "cell_type": "markdown",
   "metadata": {},
   "source": [
    "---------------------------------------------------------------------------------------------"
   ]
  },
  {
   "cell_type": "markdown",
   "metadata": {},
   "source": [
    "Install Packages: use conda OR pip !"
   ]
  },
  {
   "cell_type": "code",
   "execution_count": null,
   "metadata": {},
   "outputs": [],
   "source": [
    "# Installing packages using CONDA (recommended)"
   ]
  },
  {
   "cell_type": "code",
   "execution_count": null,
   "metadata": {},
   "outputs": [],
   "source": [
    "#Create environment from .yml called \"test_notebook_env\" (this might take a few minutes)\n",
    "!conda env create -f environment_test.yml"
   ]
  },
  {
   "cell_type": "code",
   "execution_count": null,
   "metadata": {},
   "outputs": [],
   "source": [
    "!conda env list"
   ]
  },
  {
   "cell_type": "code",
   "execution_count": null,
   "metadata": {},
   "outputs": [],
   "source": [
    "!conda activate test_notebook_env"
   ]
  },
  {
   "cell_type": "code",
   "execution_count": null,
   "metadata": {},
   "outputs": [],
   "source": [
    "!conda info --envs"
   ]
  },
  {
   "cell_type": "markdown",
   "metadata": {},
   "source": [
    "Select the conda environment in the top right (in VS Code)"
   ]
  },
  {
   "cell_type": "code",
   "execution_count": null,
   "metadata": {},
   "outputs": [],
   "source": [
    "# Installing packages using pip"
   ]
  },
  {
   "cell_type": "code",
   "execution_count": null,
   "metadata": {},
   "outputs": [],
   "source": [
    "#create virtual env\n",
    "!pip install virtualenv"
   ]
  },
  {
   "cell_type": "code",
   "execution_count": null,
   "metadata": {},
   "outputs": [],
   "source": [
    "!virtualenv venv"
   ]
  },
  {
   "cell_type": "code",
   "execution_count": null,
   "metadata": {},
   "outputs": [],
   "source": [
    "#install all packages (this might take a few minutes)\n",
    "!pip install matplotlib\n",
    "!pip install torch\n",
    "!pip install numpy\n",
    "!pip install icecream\n",
    "!pip install tqdm\n",
    "!pip install torch\n",
    "!pip install pandas\n",
    "!pip install torch.utils\n"
   ]
  },
  {
   "cell_type": "markdown",
   "metadata": {},
   "source": [
    "Select the venv environment in the top right (in VS Code)"
   ]
  },
  {
   "cell_type": "code",
   "execution_count": null,
   "metadata": {},
   "outputs": [],
   "source": [
    "# Importing necessary libraries\n",
    "import matplotlib.pyplot as plt\n",
    "import torch\n",
    "from torch import nn\n",
    "import numpy as np\n",
    "from icecream import ic\n",
    "from tqdm import tqdm\n",
    "from get_data import *\n",
    "from dataloader import *"
   ]
  },
  {
   "cell_type": "markdown",
   "metadata": {},
   "source": [
    "Data:"
   ]
  },
  {
   "cell_type": "code",
   "execution_count": null,
   "metadata": {},
   "outputs": [],
   "source": [
    "# Import the data generated via matlab/simulink:\n",
    "\n",
    "# see get_data.py for more info\n",
    "data_tensor = get_data(path = \"save_data_test3.csv\", timesteps_from_data=0, skip_steps_start = 0, skip_steps_end = 0, drop_half_timesteps = False, normalise_s_w=False, rescale_p=False, num_inits=0)\n",
    "\n",
    "# View an example of a simulation run\n",
    "visualise(data_tensor, num_inits=100)"
   ]
  },
  {
   "cell_type": "markdown",
   "metadata": {},
   "source": [
    "LSTM - neural network\n"
   ]
  },
  {
   "cell_type": "code",
   "execution_count": null,
   "metadata": {},
   "outputs": [],
   "source": [
    " #Define the LSTM model class\n",
    "\n",
    "# Use the GPU if available\n",
    "torch.set_default_dtype(torch.float64)\n",
    "device = \"cuda:0\" if torch.cuda.is_available() else \"cpu\"\n",
    "print(device)\n",
    "\n",
    "class LSTMmodel(nn.Module):\n",
    "    \"\"\"\n",
    "    LSTM model class for derivative estimation.\n",
    "    \"\"\"\n",
    "\n",
    "    def __init__(self, input_size, hidden_size, out_size, layers):\n",
    "        \"\"\"\n",
    "        Initialize the LSTM model.\n",
    "\n",
    "        Args:\n",
    "        - input_size: Size of input\n",
    "        - hidden_size: Size of hidden layer\n",
    "        - out_size: Size of output\n",
    "        - layers: Number of layers\n",
    "        \"\"\"\n",
    "        super().__init__()\n",
    "\n",
    "        self.hidden_size = hidden_size\n",
    "        self.input_size = input_size\n",
    "\n",
    "        # Define LSTM layer\n",
    "        self.lstm = nn.LSTM(input_size, hidden_size, num_layers=layers, batch_first=True)\n",
    "\n",
    "        # Define linear layer\n",
    "        self.linear = nn.Linear(hidden_size, out_size)\n",
    "\n",
    "    def forward(self, seq):\n",
    "        \"\"\"\n",
    "        Forward pass through the LSTM model.\n",
    "\n",
    "        Args:\n",
    "        - seq: Input sequence\n",
    "\n",
    "        Returns:\n",
    "        - pred: Model prediction\n",
    "        - hidden: Hidden state\n",
    "        \"\"\"\n",
    "        lstm_out, hidden = self.lstm(seq)\n",
    "        pred = self.linear(lstm_out)\n",
    "\n",
    "        return pred, hidden\n"
   ]
  },
  {
   "cell_type": "markdown",
   "metadata": {},
   "source": [
    "Functions for training and testing the model:"
   ]
  },
  {
   "cell_type": "code",
   "execution_count": null,
   "metadata": {},
   "outputs": [],
   "source": [
    "\n",
    "def train(input_data, model, weight_decay, future_decay, learning_rate=0.001):\n",
    "    \"\"\"\n",
    "    Train the LSTM model using input data.\n",
    "\n",
    "    Args:\n",
    "    - input_data: Input data for training\n",
    "    - model: LSTM model to be trained\n",
    "    - ws: Window size\n",
    "    - odestep: Option for using ODE steps\n",
    "    - use_autograd: Option for using autograd\n",
    "\n",
    "    Returns:\n",
    "    - Mean loss over all batches\n",
    "    \"\"\"\n",
    "    loss_fn = nn.MSELoss()\n",
    "    optimizer = torch.optim.Adam(model.parameters(), lr = learning_rate, weight_decay=weight_decay)\n",
    "\n",
    "    model.train()\n",
    "    total_loss = []\n",
    "\n",
    "    for k, (inp, label) in enumerate(input_data):  # inp = (u, x) label = x\n",
    "        \n",
    "        inp=inp.to(device)\n",
    "        label=label.to(device)\n",
    "\n",
    "        # Predict one timestep :\n",
    "        output, _ = model(inp)\n",
    "        out = inp[:, :, 1:] + output\n",
    "\n",
    "        # reset the gradient\n",
    "        optimizer.zero_grad(set_to_none=True)\n",
    "        # calculate the error\n",
    "        loss = loss_fn(out[:,-1,:], label[:, 1:])\n",
    "\n",
    "        #backpropagation\n",
    "        loss.backward(retain_graph=True)\n",
    "        optimizer.step()\n",
    "\n",
    "\n",
    "        total_loss.append(loss.detach().cpu().numpy())\n",
    "\n",
    "   # return the average error of the next step prediction\n",
    "    return np.mean(total_loss)\n"
   ]
  },
  {
   "cell_type": "code",
   "execution_count": null,
   "metadata": {},
   "outputs": [],
   "source": [
    "\n",
    "def test(test_data, model, steps=600, ws=10, plot_opt=False):\n",
    "\n",
    "    #test_data = test_dataloader.get_all_data() \n",
    "    model.eval()\n",
    "    loss_fn = nn.MSELoss()\n",
    "    test_loss = 0\n",
    "    test_loss_deriv = 0\n",
    "    total_loss = 0\n",
    "\n",
    "    for i, x in enumerate(test_data):\n",
    "        x=x.to(device)\n",
    "        if i > 5:\n",
    "            break\n",
    "\n",
    "        with torch.inference_mode():\n",
    "\n",
    "            pred = torch.zeros((steps, 3), device=device)\n",
    "            pred_next_step = torch.zeros((steps, 3), device=device)\n",
    "\n",
    "            if ws > 1:\n",
    "                pred[0:ws, :] = x[0:ws, :]\n",
    "                pred[:, 0] = x[:, 0]\n",
    "                pred_next_step[0:ws, :] = x[0:ws, :]\n",
    "                pred_next_step[:, 0] = x[:, 0]\n",
    "            else:\n",
    "                pred[0, :] = x[0, :]\n",
    "                pred[:, 0] = x[:, 0]\n",
    "                pred_next_step[0, :] = x[0, :]\n",
    "                pred_next_step[:, 0] = x[:, 0]\n",
    "\n",
    "            for i in range(len(x) - ws):\n",
    "\n",
    "                out, _ = model(pred[i:i+ws, :])\n",
    "                pred[i+ws, 1:] = pred[i+ws-1, 1:] + out[-1, :]\n",
    "                pred_next_step[i+ws, 1:] = x[i+ws-1, 1:] + out[-1, :]\n",
    "            \n",
    "            test_loss += loss_fn(pred[:, 1], x[:, 1]).detach().cpu().numpy()\n",
    "            test_loss_deriv += loss_fn(pred[:, 2], x[:, 2]).detach().cpu().numpy()\n",
    "\n",
    "            total_loss += loss_fn(pred[:, 1:], x[:, 1:]).detach().cpu().numpy()\n",
    "\n",
    "            if plot_opt:\n",
    "                figure , axs = plt.subplots(1,3,figsize=(16,9))\n",
    "            \n",
    "                axs[0].plot(pred.detach().cpu().numpy()[:, 1], color=\"red\", label=\"pred\")\n",
    "                axs[0].plot(pred_next_step.detach().cpu().numpy()[:, 1], color=\"green\", label=\"next step from data\")\n",
    "                axs[0].plot(x.detach().cpu().numpy()[:, 1], color=\"blue\", label=\"true\", linestyle=\"dashed\")\n",
    "                axs[0].set_title(\"position\")\n",
    "                axs[0].grid()\n",
    "                axs[0].legend()\n",
    "\n",
    "                axs[1].plot(pred.detach().cpu().numpy()[:, 2], color=\"red\", label=\"pred\")\n",
    "                axs[1].plot(pred_next_step.detach().cpu().numpy()[:, 2], color=\"green\", label=\"next step from data\")\n",
    "                axs[1].plot(x.detach().cpu().numpy()[:, 2], color=\"blue\", label=\"true\", linestyle=\"dashed\")\n",
    "                axs[1].set_title(\"speed\")\n",
    "                axs[1].grid()\n",
    "                axs[1].legend()\n",
    "\n",
    "                axs[2].plot(x.detach().cpu().numpy()[:,0], label=\"pressure\")\n",
    "                axs[2].set_title(\"pressure\")\n",
    "                axs[2].grid()\n",
    "                axs[2].legend()\n",
    "\n",
    "                plt.grid(True)\n",
    "                plt.legend()\n",
    "                plt.show()\n",
    "            \n",
    "    return np.mean(test_loss), np.mean(test_loss_deriv), np.mean(total_loss)\n"
   ]
  },
  {
   "cell_type": "markdown",
   "metadata": {},
   "source": [
    "Main training loop:\n",
    "\n",
    "generate parameters,\n",
    "prepare training/testing data,\n",
    "start training loop"
   ]
  },
  {
   "cell_type": "code",
   "execution_count": null,
   "metadata": {},
   "outputs": [],
   "source": [
    "# set some parameters for learning \n",
    "\n",
    "                    #window_size, h_size,  l_num,  epochs, learning_rate,  part_of_data,   weight_decay,   percentage_of_data    future_decay      batch_size\n",
    "parameter_sets  =    [4,             5 ,      1,       10,       0.001,           100,           1e-5,               0.8,               0.3 ,           64]\n",
    "                    \n",
    "window_size, h_size, l_num, epochs, learning_rate, part_of_data, weight_decay,  percentage_of_data, future_decay, batch_size = parameter_sets\n",
    "\n",
    "# Initialize the LSTM model\n",
    "#model = LSTMmodel(input_size=3, hidden_size=h_size, out_size=2, layers=l_num).to(device)\n",
    "model = LSTMmodel(input_size=3, hidden_size=h_size, out_size=2, layers=l_num).to(device)\n",
    "# Generate input data (the data is normalized and some timesteps are cut off)\n",
    "input_data = get_data(path = \"save_data_test3.csv\", \n",
    "                        timesteps_from_data=0, \n",
    "                        skip_steps_start = 0,\n",
    "                        skip_steps_end = 0, \n",
    "                        drop_half_timesteps = False,\n",
    "                        normalise_s_w=True,\n",
    "                        rescale_p=False,\n",
    "                        num_inits=part_of_data)\n",
    "\n",
    "#drop timesteps at the end of each run in the training data\n",
    "cut_off_timesteps = 500\n",
    "\n",
    "#Split data into train and test sets\n",
    "\n",
    "np.random.seed(1234)\n",
    "num_of_inits_train = int(len(input_data)*percentage_of_data)\n",
    "train_inits = np.random.choice(np.arange(len(input_data)),num_of_inits_train,replace=False)\n",
    "test_inits = np.array([x for x in range(len(input_data)) if x not in train_inits])\n",
    "\n",
    "train_data = input_data[train_inits,:input_data.size(dim=1)-cut_off_timesteps,:]\n",
    "test_data = input_data[test_inits,:,:]\n",
    "\n",
    "data_set  = CustomDataset(train_data, window_size=window_size)\n",
    "train_dataloader = DataLoader(data_set, batch_size=batch_size, pin_memory=True, drop_last=True)\n",
    "\n",
    "\n",
    "losses = []\n",
    "average_traj_err_train = []\n",
    "average_traj_err_test = []\n",
    "\n",
    "for e in tqdm(range(epochs)):\n",
    "    \n",
    "    loss_epoch = train(train_dataloader, model, weight_decay, future_decay, learning_rate=learning_rate)\n",
    "    losses.append(loss_epoch)\n",
    "\n",
    "    # Every few epochs get the error MSE of the true data\n",
    "    # compared to the network prediction starting from some initial conditions\n",
    "    if (e+1)%10 == 0:\n",
    "        _,_, err_train = test(train_data, model, steps=train_data.size(dim=1), ws=window_size, plot_opt=False)\n",
    "        _,_, err_test = test(test_data, model, steps=test_data.size(dim=1), ws=window_size, plot_opt=False)\n",
    "        average_traj_err_train.append(err_train)\n",
    "        average_traj_err_test.append(err_test)\n",
    "        print(f\"Epoch: {epochs}, the average next step error was : loss_epoch\")\n",
    "        print(f\"Average error over full trajectories: training data : {err_train}\")\n",
    "        print(f\"Average error over full trajectories: testing data : {err_test}\")"
   ]
  },
  {
   "cell_type": "markdown",
   "metadata": {},
   "source": [
    "Save the trainend model"
   ]
  },
  {
   "cell_type": "code",
   "execution_count": null,
   "metadata": {},
   "outputs": [],
   "source": [
    "# Save the model\n",
    "path = f\"Ventil_trained_NNs\\my_example_model.pth\"\n",
    "torch.save(model.state_dict(), path)"
   ]
  },
  {
   "cell_type": "markdown",
   "metadata": {},
   "source": [
    "Load the model and plot some tests"
   ]
  },
  {
   "cell_type": "code",
   "execution_count": null,
   "metadata": {},
   "outputs": [],
   "source": [
    "# Load the model and test it on the test data\n",
    "\n",
    "path = \"Ventil_trained_NNs\\my_example_model.pth\"\n",
    "model = LSTMmodel(input_size=3, hidden_size=h_size, out_size=2, layers=l_num).to(device)\n",
    "model.load_state_dict(torch.load(path, map_location=torch.device(device)))\n",
    "\n",
    "test_loss, test_loss_deriv, total_loss = test(test_data, model, steps=input_data.size(dim=1), ws=window_size, plot_opt=True)\n",
    "ic(test_loss, test_loss_deriv, total_loss)"
   ]
  }
 ],
 "metadata": {
  "kernelspec": {
   "display_name": "Python 3",
   "language": "python",
   "name": "python3"
  },
  "language_info": {
   "codemirror_mode": {
    "name": "ipython",
    "version": 3
   },
   "file_extension": ".py",
   "mimetype": "text/x-python",
   "name": "python",
   "nbconvert_exporter": "python",
   "pygments_lexer": "ipython3",
   "version": "3.11.7"
  }
 },
 "nbformat": 4,
 "nbformat_minor": 2
}
