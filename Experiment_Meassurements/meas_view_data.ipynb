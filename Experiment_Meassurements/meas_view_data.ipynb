{
 "cells": [
  {
   "cell_type": "code",
   "execution_count": 1,
   "metadata": {},
   "outputs": [],
   "source": [
    "# Achtung normalize und invert sind etwas anders weil pos schon auf 0,1\n",
    "# Alle Trajektorien sind in einem file für die 6 input arten\n",
    "# 900 Traj mit je 500 zeitschritten\n",
    "# die Testtrajektorien sind immer die Enden der 30 Trajektorien (6*5) und 7mal länger\n",
    "\n",
    "# Vorher T  = [0 , 0.0112] 500 steps\n",
    "# Jetzt T = [0, 0.0224] 500 steps \n",
    "# => Schrittweite verdoppelt    \n",
    "# Modell normal trainieren und dann bei Vergleich zu Simulink die Simulink Daten interpolieren damit sie gleich lang sind!"
   ]
  },
  {
   "cell_type": "code",
   "execution_count": 6,
   "metadata": {},
   "outputs": [],
   "source": [
    "from meas_get_data import *\n",
    "from meas_test_func_fs import * \n",
    "from meas_get_data import *\n",
    "import os\n",
    "torch.set_default_dtype(torch.float64)\n",
    "device = \"cuda:0\" if torch.cuda.is_available() else \"cpu\""
   ]
  },
  {
   "cell_type": "code",
   "execution_count": null,
   "metadata": {},
   "outputs": [],
   "source": [
    "path = r\"C:\\Users\\strasserp\\Documents\\ventil_lstm\\Experiment_Meassurements\\Messungen\\messdaten_900traj_500steps.csv\"\n",
    "data =get_data(path, num_inits=100)\n",
    "data.size()\n",
    "\n",
    "path = r\"C:\\Users\\strasserp\\Documents\\ventil_lstm\\Experiment_Meassurements\\Messungen\\Test-Messdaten_30traj_7times500steps.csv\"\n",
    "test_data =get_data(path, num_inits=100)\n",
    "test_data.size()"
   ]
  },
  {
   "cell_type": "code",
   "execution_count": null,
   "metadata": {},
   "outputs": [],
   "source": [
    "visualise(normalize_invert(test_data),3)\n",
    "visualise(normalize_invert(test_data),4)\n",
    "visualise(normalize_invert(test_data),5)"
   ]
  },
  {
   "cell_type": "code",
   "execution_count": null,
   "metadata": {},
   "outputs": [],
   "source": [
    "visualise(normalize_invert(data),89)\n",
    "visualise(normalize_invert(data),91)\n",
    "visualise(normalize_invert(data),92)"
   ]
  },
  {
   "cell_type": "code",
   "execution_count": null,
   "metadata": {},
   "outputs": [],
   "source": [
    "\n",
    "params_lstm =    {\n",
    "                        \"window_size\" : 16,\n",
    "                        \"h_size\" : 8,\n",
    "                        \"l_num\" : 3,\n",
    "                        \"learning_rate\" : 0.001,\n",
    "                        \"batch_size\" : 20,\n",
    "\n",
    "                        \"percentage_of_data\" : 0.8,\n",
    "                        \"cut_off_timesteps\" : 0,\n",
    "                        \"part_of_data\" : 0,\n",
    "                        \"epochs\" : 1000,\n",
    "                        \"test_every_epochs\" : 100,\n",
    "\n",
    "                        \"T_max\" : 500,\n",
    "\n",
    "                        \"experiment_number\" : np.random.randint(0,1000)\n",
    "                        }\n",
    "\n",
    "\n",
    "if os.name == \"nt\":\n",
    "    path_train_data=r\"C:\\Users\\strasserp\\Documents\\ventil_lstm\\Experiment_Meassurements\\Messungen\\messdaten_900traj_500steps.csv\"\n",
    "    path_test_data = r\"C:\\Users\\strasserp\\Documents\\ventil_lstm\\Experiment_Meassurements\\Messungen\\TEST-Messdaten_30traj_7times500steps.csv\"\n",
    "\n",
    "else:\n",
    "    path_train_data=r\"/home/rdpusr/Documents/ventil_lstm/Experiment_Meassurements/Messungen/messdaten_900traj_500steps.csv\"\n",
    "    path_test_data = r\"/home/rdpusr/Documents/ventil_lstm/Experiment_Meassurements/Messungen/TEST-Messdaten_30traj_7times500steps.csv\"\n",
    "\n",
    "test_data = get_data(path_test_data,num_inits=100)\n",
    "train_data = get_data(path_train_data,num_inits=100)\n",
    "\n",
    " \n",
    "\n",
    "model_lstm = OR_LSTM(input_size=4, hidden_size=params_lstm[\"h_size\"], out_size=2, layers=params_lstm[\"l_num\"], window_size=params_lstm[\"window_size\"]).to(device)\n",
    "\n",
    "path_lstm=r\"C:\\Users\\strasserp\\Documents\\ventil_lstm\\Experiment_Meassurements\\or_lstm_0_3.pth\"\n",
    "model_lstm.load_state_dict(torch.load(path_lstm, map_location=torch.device(device)))\n",
    "\n",
    "#test(test_data.to(device), model_lstm, model_type=\"lstm\", window_size=params_lstm[\"window_size\"], display_plots=True, numb_of_inits = 1, fix_random=True)\n",
    "test(test_data.to(device), model_lstm, model_type=\"lstm\", window_size=params_lstm[\"window_size\"], display_plots=True, numb_of_inits = 5, fix_random=True)"
   ]
  }
 ],
 "metadata": {
  "kernelspec": {
   "display_name": "my_test_env",
   "language": "python",
   "name": "python3"
  },
  "language_info": {
   "codemirror_mode": {
    "name": "ipython",
    "version": 3
   },
   "file_extension": ".py",
   "mimetype": "text/x-python",
   "name": "python",
   "nbconvert_exporter": "python",
   "pygments_lexer": "ipython3",
   "version": "3.11.7"
  }
 },
 "nbformat": 4,
 "nbformat_minor": 2
}
